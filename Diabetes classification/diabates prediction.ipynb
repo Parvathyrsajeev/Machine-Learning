{
 "cells": [
  {
   "cell_type": "markdown",
   "id": "5c83c9b1",
   "metadata": {},
   "source": [
    "<h1 align=center> Diabates Prediction </h1>"
   ]
  },
  {
   "cell_type": "code",
   "execution_count": 1,
   "id": "b0d2a7a5",
   "metadata": {},
   "outputs": [],
   "source": [
    "import pandas as pd \n",
    "import numpy as np\n",
    "import matplotlib.pyplot as plt\n",
    "import warnings\n",
    "warnings.filterwarnings('ignore')\n",
    "\n",
    "from  sklearn.preprocessing import LabelEncoder,StandardScaler\n",
    "from sklearn.metrics import accuracy_score,confusion_matrix,RocCurveDisplay\n",
    "from sklearn.ensemble import RandomForestClassifier,AdaBoostClassifier,GradientBoostingClassifier\n",
    "from sklearn.linear_model import LogisticRegression\n",
    "from sklearn.neighbors import KNeighborsClassifier\n",
    "from sklearn.tree import DecisionTreeClassifier\n",
    "from sklearn.model_selection import cross_val_score,train_test_split"
   ]
  },
  {
   "cell_type": "code",
   "execution_count": 2,
   "id": "7595ba2e",
   "metadata": {},
   "outputs": [
    {
     "data": {
      "text/html": [
       "<div>\n",
       "<style scoped>\n",
       "    .dataframe tbody tr th:only-of-type {\n",
       "        vertical-align: middle;\n",
       "    }\n",
       "\n",
       "    .dataframe tbody tr th {\n",
       "        vertical-align: top;\n",
       "    }\n",
       "\n",
       "    .dataframe thead th {\n",
       "        text-align: right;\n",
       "    }\n",
       "</style>\n",
       "<table border=\"1\" class=\"dataframe\">\n",
       "  <thead>\n",
       "    <tr style=\"text-align: right;\">\n",
       "      <th></th>\n",
       "      <th>Age</th>\n",
       "      <th>Gender</th>\n",
       "      <th>BMI</th>\n",
       "      <th>Blood Pressure</th>\n",
       "      <th>FBS</th>\n",
       "      <th>HbA1c</th>\n",
       "      <th>Family History of Diabetes</th>\n",
       "      <th>Smoking</th>\n",
       "      <th>Diet</th>\n",
       "      <th>Exercise</th>\n",
       "      <th>Diagnosis</th>\n",
       "    </tr>\n",
       "  </thead>\n",
       "  <tbody>\n",
       "    <tr>\n",
       "      <th>0</th>\n",
       "      <td>45</td>\n",
       "      <td>Male</td>\n",
       "      <td>25</td>\n",
       "      <td>Normal</td>\n",
       "      <td>100</td>\n",
       "      <td>5.7</td>\n",
       "      <td>No</td>\n",
       "      <td>No</td>\n",
       "      <td>Healthy</td>\n",
       "      <td>Regular</td>\n",
       "      <td>No</td>\n",
       "    </tr>\n",
       "    <tr>\n",
       "      <th>1</th>\n",
       "      <td>55</td>\n",
       "      <td>Female</td>\n",
       "      <td>30</td>\n",
       "      <td>High</td>\n",
       "      <td>120</td>\n",
       "      <td>6.4</td>\n",
       "      <td>Yes</td>\n",
       "      <td>Yes</td>\n",
       "      <td>Poor</td>\n",
       "      <td>No</td>\n",
       "      <td>Yes</td>\n",
       "    </tr>\n",
       "    <tr>\n",
       "      <th>2</th>\n",
       "      <td>65</td>\n",
       "      <td>Male</td>\n",
       "      <td>35</td>\n",
       "      <td>High</td>\n",
       "      <td>140</td>\n",
       "      <td>7.1</td>\n",
       "      <td>Yes</td>\n",
       "      <td>Yes</td>\n",
       "      <td>Poor</td>\n",
       "      <td>No</td>\n",
       "      <td>Yes</td>\n",
       "    </tr>\n",
       "    <tr>\n",
       "      <th>3</th>\n",
       "      <td>75</td>\n",
       "      <td>Female</td>\n",
       "      <td>40</td>\n",
       "      <td>High</td>\n",
       "      <td>160</td>\n",
       "      <td>7.8</td>\n",
       "      <td>Yes</td>\n",
       "      <td>Yes</td>\n",
       "      <td>Poor</td>\n",
       "      <td>No</td>\n",
       "      <td>Yes</td>\n",
       "    </tr>\n",
       "    <tr>\n",
       "      <th>4</th>\n",
       "      <td>40</td>\n",
       "      <td>Male</td>\n",
       "      <td>20</td>\n",
       "      <td>Normal</td>\n",
       "      <td>80</td>\n",
       "      <td>5.0</td>\n",
       "      <td>No</td>\n",
       "      <td>No</td>\n",
       "      <td>Healthy</td>\n",
       "      <td>Regular</td>\n",
       "      <td>No</td>\n",
       "    </tr>\n",
       "  </tbody>\n",
       "</table>\n",
       "</div>"
      ],
      "text/plain": [
       "   Age  Gender  BMI Blood Pressure  FBS  HbA1c Family History of Diabetes  \\\n",
       "0   45    Male   25         Normal  100    5.7                         No   \n",
       "1   55  Female   30           High  120    6.4                        Yes   \n",
       "2   65    Male   35           High  140    7.1                        Yes   \n",
       "3   75  Female   40           High  160    7.8                        Yes   \n",
       "4   40    Male   20         Normal   80    5.0                         No   \n",
       "\n",
       "  Smoking     Diet Exercise Diagnosis  \n",
       "0      No  Healthy  Regular        No  \n",
       "1     Yes     Poor       No       Yes  \n",
       "2     Yes     Poor       No       Yes  \n",
       "3     Yes     Poor       No       Yes  \n",
       "4      No  Healthy  Regular        No  "
      ]
     },
     "execution_count": 2,
     "metadata": {},
     "output_type": "execute_result"
    }
   ],
   "source": [
    "data = pd.read_csv('./Diabetes Classification.csv')\n",
    "data.head()"
   ]
  },
  {
   "cell_type": "code",
   "execution_count": 3,
   "id": "525a3af8",
   "metadata": {},
   "outputs": [
    {
     "data": {
      "text/plain": [
       "Age                           0\n",
       "Gender                        0\n",
       "BMI                           0\n",
       "Blood Pressure                0\n",
       "FBS                           0\n",
       "HbA1c                         0\n",
       "Family History of Diabetes    0\n",
       "Smoking                       0\n",
       "Diet                          0\n",
       "Exercise                      0\n",
       "Diagnosis                     0\n",
       "dtype: int64"
      ]
     },
     "execution_count": 3,
     "metadata": {},
     "output_type": "execute_result"
    }
   ],
   "source": [
    "data.isnull().sum()"
   ]
  },
  {
   "cell_type": "code",
   "execution_count": 4,
   "id": "1b195c74",
   "metadata": {},
   "outputs": [
    {
     "name": "stdout",
     "output_type": "stream",
     "text": [
      "<class 'pandas.core.frame.DataFrame'>\n",
      "RangeIndex: 128 entries, 0 to 127\n",
      "Data columns (total 11 columns):\n",
      " #   Column                      Non-Null Count  Dtype  \n",
      "---  ------                      --------------  -----  \n",
      " 0   Age                         128 non-null    int64  \n",
      " 1   Gender                      128 non-null    object \n",
      " 2   BMI                         128 non-null    int64  \n",
      " 3   Blood Pressure              128 non-null    object \n",
      " 4   FBS                         128 non-null    int64  \n",
      " 5   HbA1c                       128 non-null    float64\n",
      " 6   Family History of Diabetes  128 non-null    object \n",
      " 7   Smoking                     128 non-null    object \n",
      " 8   Diet                        128 non-null    object \n",
      " 9   Exercise                    128 non-null    object \n",
      " 10  Diagnosis                   128 non-null    object \n",
      "dtypes: float64(1), int64(3), object(7)\n",
      "memory usage: 11.1+ KB\n"
     ]
    }
   ],
   "source": [
    "data.info()"
   ]
  },
  {
   "cell_type": "code",
   "execution_count": 5,
   "id": "e385860e",
   "metadata": {},
   "outputs": [],
   "source": [
    "le = LabelEncoder()"
   ]
  },
  {
   "cell_type": "code",
   "execution_count": 6,
   "id": "fd79bfd6",
   "metadata": {},
   "outputs": [],
   "source": [
    "for i in data.columns:\n",
    "    if data[i].dtypes == 'object':\n",
    "        data[i] = le.fit_transform(data[i])"
   ]
  },
  {
   "cell_type": "code",
   "execution_count": 7,
   "id": "e3d74c01",
   "metadata": {},
   "outputs": [
    {
     "data": {
      "text/html": [
       "<div>\n",
       "<style scoped>\n",
       "    .dataframe tbody tr th:only-of-type {\n",
       "        vertical-align: middle;\n",
       "    }\n",
       "\n",
       "    .dataframe tbody tr th {\n",
       "        vertical-align: top;\n",
       "    }\n",
       "\n",
       "    .dataframe thead th {\n",
       "        text-align: right;\n",
       "    }\n",
       "</style>\n",
       "<table border=\"1\" class=\"dataframe\">\n",
       "  <thead>\n",
       "    <tr style=\"text-align: right;\">\n",
       "      <th></th>\n",
       "      <th>Age</th>\n",
       "      <th>Gender</th>\n",
       "      <th>BMI</th>\n",
       "      <th>Blood Pressure</th>\n",
       "      <th>FBS</th>\n",
       "      <th>HbA1c</th>\n",
       "      <th>Family History of Diabetes</th>\n",
       "      <th>Smoking</th>\n",
       "      <th>Diet</th>\n",
       "      <th>Exercise</th>\n",
       "      <th>Diagnosis</th>\n",
       "    </tr>\n",
       "  </thead>\n",
       "  <tbody>\n",
       "    <tr>\n",
       "      <th>0</th>\n",
       "      <td>45</td>\n",
       "      <td>1</td>\n",
       "      <td>25</td>\n",
       "      <td>2</td>\n",
       "      <td>100</td>\n",
       "      <td>5.7</td>\n",
       "      <td>0</td>\n",
       "      <td>0</td>\n",
       "      <td>0</td>\n",
       "      <td>1</td>\n",
       "      <td>0</td>\n",
       "    </tr>\n",
       "    <tr>\n",
       "      <th>1</th>\n",
       "      <td>55</td>\n",
       "      <td>0</td>\n",
       "      <td>30</td>\n",
       "      <td>0</td>\n",
       "      <td>120</td>\n",
       "      <td>6.4</td>\n",
       "      <td>1</td>\n",
       "      <td>1</td>\n",
       "      <td>1</td>\n",
       "      <td>0</td>\n",
       "      <td>1</td>\n",
       "    </tr>\n",
       "    <tr>\n",
       "      <th>2</th>\n",
       "      <td>65</td>\n",
       "      <td>1</td>\n",
       "      <td>35</td>\n",
       "      <td>0</td>\n",
       "      <td>140</td>\n",
       "      <td>7.1</td>\n",
       "      <td>1</td>\n",
       "      <td>1</td>\n",
       "      <td>1</td>\n",
       "      <td>0</td>\n",
       "      <td>1</td>\n",
       "    </tr>\n",
       "    <tr>\n",
       "      <th>3</th>\n",
       "      <td>75</td>\n",
       "      <td>0</td>\n",
       "      <td>40</td>\n",
       "      <td>0</td>\n",
       "      <td>160</td>\n",
       "      <td>7.8</td>\n",
       "      <td>1</td>\n",
       "      <td>1</td>\n",
       "      <td>1</td>\n",
       "      <td>0</td>\n",
       "      <td>1</td>\n",
       "    </tr>\n",
       "    <tr>\n",
       "      <th>4</th>\n",
       "      <td>40</td>\n",
       "      <td>1</td>\n",
       "      <td>20</td>\n",
       "      <td>2</td>\n",
       "      <td>80</td>\n",
       "      <td>5.0</td>\n",
       "      <td>0</td>\n",
       "      <td>0</td>\n",
       "      <td>0</td>\n",
       "      <td>1</td>\n",
       "      <td>0</td>\n",
       "    </tr>\n",
       "    <tr>\n",
       "      <th>...</th>\n",
       "      <td>...</td>\n",
       "      <td>...</td>\n",
       "      <td>...</td>\n",
       "      <td>...</td>\n",
       "      <td>...</td>\n",
       "      <td>...</td>\n",
       "      <td>...</td>\n",
       "      <td>...</td>\n",
       "      <td>...</td>\n",
       "      <td>...</td>\n",
       "      <td>...</td>\n",
       "    </tr>\n",
       "    <tr>\n",
       "      <th>123</th>\n",
       "      <td>17</td>\n",
       "      <td>0</td>\n",
       "      <td>15</td>\n",
       "      <td>2</td>\n",
       "      <td>100</td>\n",
       "      <td>5.7</td>\n",
       "      <td>0</td>\n",
       "      <td>1</td>\n",
       "      <td>1</td>\n",
       "      <td>0</td>\n",
       "      <td>1</td>\n",
       "    </tr>\n",
       "    <tr>\n",
       "      <th>124</th>\n",
       "      <td>22</td>\n",
       "      <td>1</td>\n",
       "      <td>19</td>\n",
       "      <td>2</td>\n",
       "      <td>120</td>\n",
       "      <td>6.4</td>\n",
       "      <td>0</td>\n",
       "      <td>1</td>\n",
       "      <td>1</td>\n",
       "      <td>0</td>\n",
       "      <td>1</td>\n",
       "    </tr>\n",
       "    <tr>\n",
       "      <th>125</th>\n",
       "      <td>27</td>\n",
       "      <td>0</td>\n",
       "      <td>24</td>\n",
       "      <td>0</td>\n",
       "      <td>140</td>\n",
       "      <td>7.1</td>\n",
       "      <td>0</td>\n",
       "      <td>1</td>\n",
       "      <td>1</td>\n",
       "      <td>0</td>\n",
       "      <td>1</td>\n",
       "    </tr>\n",
       "    <tr>\n",
       "      <th>126</th>\n",
       "      <td>32</td>\n",
       "      <td>1</td>\n",
       "      <td>29</td>\n",
       "      <td>0</td>\n",
       "      <td>160</td>\n",
       "      <td>7.8</td>\n",
       "      <td>0</td>\n",
       "      <td>1</td>\n",
       "      <td>1</td>\n",
       "      <td>0</td>\n",
       "      <td>1</td>\n",
       "    </tr>\n",
       "    <tr>\n",
       "      <th>127</th>\n",
       "      <td>37</td>\n",
       "      <td>0</td>\n",
       "      <td>34</td>\n",
       "      <td>0</td>\n",
       "      <td>180</td>\n",
       "      <td>8.5</td>\n",
       "      <td>0</td>\n",
       "      <td>1</td>\n",
       "      <td>1</td>\n",
       "      <td>0</td>\n",
       "      <td>1</td>\n",
       "    </tr>\n",
       "  </tbody>\n",
       "</table>\n",
       "<p>128 rows × 11 columns</p>\n",
       "</div>"
      ],
      "text/plain": [
       "     Age  Gender  BMI  Blood Pressure  FBS  HbA1c  Family History of Diabetes  \\\n",
       "0     45       1   25               2  100    5.7                           0   \n",
       "1     55       0   30               0  120    6.4                           1   \n",
       "2     65       1   35               0  140    7.1                           1   \n",
       "3     75       0   40               0  160    7.8                           1   \n",
       "4     40       1   20               2   80    5.0                           0   \n",
       "..   ...     ...  ...             ...  ...    ...                         ...   \n",
       "123   17       0   15               2  100    5.7                           0   \n",
       "124   22       1   19               2  120    6.4                           0   \n",
       "125   27       0   24               0  140    7.1                           0   \n",
       "126   32       1   29               0  160    7.8                           0   \n",
       "127   37       0   34               0  180    8.5                           0   \n",
       "\n",
       "     Smoking  Diet  Exercise  Diagnosis  \n",
       "0          0     0         1          0  \n",
       "1          1     1         0          1  \n",
       "2          1     1         0          1  \n",
       "3          1     1         0          1  \n",
       "4          0     0         1          0  \n",
       "..       ...   ...       ...        ...  \n",
       "123        1     1         0          1  \n",
       "124        1     1         0          1  \n",
       "125        1     1         0          1  \n",
       "126        1     1         0          1  \n",
       "127        1     1         0          1  \n",
       "\n",
       "[128 rows x 11 columns]"
      ]
     },
     "execution_count": 7,
     "metadata": {},
     "output_type": "execute_result"
    }
   ],
   "source": [
    "data"
   ]
  },
  {
   "cell_type": "code",
   "execution_count": 8,
   "id": "71f69569",
   "metadata": {},
   "outputs": [],
   "source": [
    "x = data.iloc[:,:-1].values"
   ]
  },
  {
   "cell_type": "code",
   "execution_count": 9,
   "id": "d2526206",
   "metadata": {},
   "outputs": [],
   "source": [
    "y = data.iloc[:,-1].values"
   ]
  },
  {
   "cell_type": "code",
   "execution_count": 10,
   "id": "c494ea35",
   "metadata": {},
   "outputs": [],
   "source": [
    "sc = StandardScaler()"
   ]
  },
  {
   "cell_type": "code",
   "execution_count": 11,
   "id": "965af790",
   "metadata": {},
   "outputs": [],
   "source": [
    "x = sc.fit_transform(x)"
   ]
  },
  {
   "cell_type": "code",
   "execution_count": 12,
   "id": "093a66de",
   "metadata": {},
   "outputs": [],
   "source": [
    "models ={\n",
    "    \"LogisticRegression\":LogisticRegression(),\n",
    "    \"DecisionTreeClassifier\":DecisionTreeClassifier(),\n",
    "    \"RandomForestClassifier\":RandomForestClassifier(),\n",
    "    \"AdaBoostClassifier\":AdaBoostClassifier(),\n",
    "    \"GradientBoostingClassifier\":GradientBoostingClassifier(),\n",
    "    \"KNeighborsClassifier\":KNeighborsClassifier()\n",
    "}"
   ]
  },
  {
   "cell_type": "code",
   "execution_count": 13,
   "id": "e6f63735",
   "metadata": {},
   "outputs": [
    {
     "name": "stdout",
     "output_type": "stream",
     "text": [
      "cross validation model:LogisticRegression\n",
      "mean score: 97.69230769230771\n",
      "****************************************************************************************************\n",
      "cross validation model:DecisionTreeClassifier\n",
      "mean score: 96.92307692307693\n",
      "****************************************************************************************************\n",
      "cross validation model:RandomForestClassifier\n",
      "mean score: 97.69230769230771\n",
      "****************************************************************************************************\n",
      "cross validation model:AdaBoostClassifier\n",
      "mean score: 97.69230769230771\n",
      "****************************************************************************************************\n",
      "cross validation model:GradientBoostingClassifier\n",
      "mean score: 97.69230769230771\n",
      "****************************************************************************************************\n",
      "cross validation model:KNeighborsClassifier\n",
      "mean score: 97.69230769230771\n",
      "****************************************************************************************************\n"
     ]
    }
   ],
   "source": [
    "for name,model in models.items():\n",
    "    scores = cross_val_score(model,x,y,scoring=\"accuracy\",cv=10,n_jobs=-1)\n",
    "    print(\"cross validation model:{}\".format(name))\n",
    "    print(\"mean score:\",np.mean(scores)*100)\n",
    "    print(\"*\"*100)"
   ]
  },
  {
   "cell_type": "markdown",
   "id": "dbd04a4b",
   "metadata": {},
   "source": [
    " selecting randomforestclassifier"
   ]
  },
  {
   "cell_type": "code",
   "execution_count": 14,
   "id": "c5ba5c48",
   "metadata": {},
   "outputs": [],
   "source": [
    "x_train,x_test,y_train,y_test = train_test_split(x,y,test_size=0.2,random_state=0)"
   ]
  },
  {
   "cell_type": "code",
   "execution_count": 15,
   "id": "935fa8d7",
   "metadata": {},
   "outputs": [],
   "source": [
    "model = RandomForestClassifier()"
   ]
  },
  {
   "cell_type": "code",
   "execution_count": 16,
   "id": "837a20a9",
   "metadata": {},
   "outputs": [
    {
     "name": "stdout",
     "output_type": "stream",
     "text": [
      "Model terained with RandomForestClassifier\n",
      "Model accuracy on train is: 1.0\n",
      "Model accuracy on test is : 0.9615384615384616\n",
      "confusion_matrix train is: [[78  0]\n",
      " [ 0 24]]\n",
      "Confusion_matrix test is [[19  0]\n",
      " [ 1  6]]\n",
      "wrong predictions made: (1, '/', 26)\n"
     ]
    }
   ],
   "source": [
    "model.fit(x_train,y_train)\n",
    "print(\"Model terained with RandomForestClassifier\")\n",
    "score_train = accuracy_score(y_train,model.predict(x_train))\n",
    "score_test = accuracy_score(y_test,model.predict(x_test))\n",
    "con_train = confusion_matrix(y_train,model.predict(x_train))\n",
    "con_test = confusion_matrix(y_test,model.predict(x_test))\n",
    "print(\"Model accuracy on train is:\",score_train)\n",
    "print(\"Model accuracy on test is :\",score_test)\n",
    "print(\"confusion_matrix train is:\",con_train)\n",
    "print(\"Confusion_matrix test is\",con_test)\n",
    "print(\"wrong predictions made:\",((y_test !=model.predict(x_test)).sum(),'/',\n",
    "                                 ((y_test == model.predict(x_test)).sum()+\n",
    "                                  (y_test != model.predict(x_test)).sum())))"
   ]
  },
  {
   "cell_type": "code",
   "execution_count": 17,
   "id": "e74f852e",
   "metadata": {},
   "outputs": [
    {
     "data": {
      "image/png": "[encoded data removed]",
      "text/plain": [
       "<Figure size 640x480 with 1 Axes>"
      ]
     },
     "metadata": {},
     "output_type": "display_data"
    }
   ],
   "source": [
    "roc_display = RocCurveDisplay.from_estimator(model,x_test,y_test)"
   ]
  },
  {
   "cell_type": "code",
   "execution_count": null,
   "id": "4daa14d7",
   "metadata": {},
   "outputs": [],
   "source": []
  }
 ],
 "metadata": {
  "kernelspec": {
   "display_name": "Python 3 (ipykernel)",
   "language": "python",
   "name": "python3"
  },
  "language_info": {
   "codemirror_mode": {
    "name": "ipython",
    "version": 3
   },
   "file_extension": ".py",
   "mimetype": "text/x-python",
   "name": "python",
   "nbconvert_exporter": "python",
   "pygments_lexer": "ipython3",
   "version": "3.10.9"
  }
 },
 "nbformat": 4,
 "nbformat_minor": 5
}
