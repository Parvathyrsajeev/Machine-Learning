{
 "cells": [
  {
   "cell_type": "markdown",
   "id": "ee4bf2a1",
   "metadata": {},
   "source": [
    "<h1 align=center> Bangalore House Price Prediction </h1>"
   ]
  },
  {
   "cell_type": "code",
   "execution_count": 1,
   "id": "5028c822",
   "metadata": {},
   "outputs": [],
   "source": [
    "import pandas as pd\n",
    "import numpy as np\n",
    "import matplotlib.pyplot as plt\n",
    "import seaborn as sns\n",
    "from sklearn.metrics import r2_score,mean_absolute_error,mean_squared_error\n",
    "from sklearn.model_selection import train_test_split,cross_val_score\n",
    "from sklearn.preprocessing import LabelEncoder,StandardScaler\n",
    "from sklearn.ensemble import AdaBoostRegressor,GradientBoostingRegressor,RandomForestRegressor\n",
    "from sklearn.linear_model import LinearRegression,Ridge,Lasso\n",
    "from sklearn.svm import LinearSVR\n",
    "from sklearn.tree import DecisionTreeRegressor\n",
    "import warnings\n",
    "warnings.filterwarnings('ignore')"
   ]
  },
  {
   "cell_type": "code",
   "execution_count": 2,
   "id": "3baad011",
   "metadata": {},
   "outputs": [
    {
     "data": {
      "text/html": [
       "<div>\n",
       "<style scoped>\n",
       "    .dataframe tbody tr th:only-of-type {\n",
       "        vertical-align: middle;\n",
       "    }\n",
       "\n",
       "    .dataframe tbody tr th {\n",
       "        vertical-align: top;\n",
       "    }\n",
       "\n",
       "    .dataframe thead th {\n",
       "        text-align: right;\n",
       "    }\n",
       "</style>\n",
       "<table border=\"1\" class=\"dataframe\">\n",
       "  <thead>\n",
       "    <tr style=\"text-align: right;\">\n",
       "      <th></th>\n",
       "      <th>id</th>\n",
       "      <th>Name of the place</th>\n",
       "      <th>BHK</th>\n",
       "      <th>Buildup Area (sq.ft)</th>\n",
       "      <th>Price (Cr.)</th>\n",
       "    </tr>\n",
       "  </thead>\n",
       "  <tbody>\n",
       "    <tr>\n",
       "      <th>0</th>\n",
       "      <td>1</td>\n",
       "      <td>Thirumagondanahalli,Bangalore</td>\n",
       "      <td>2</td>\n",
       "      <td>2032</td>\n",
       "      <td>0.7</td>\n",
       "    </tr>\n",
       "    <tr>\n",
       "      <th>1</th>\n",
       "      <td>2</td>\n",
       "      <td>LIC nivas,Nanja Reddy Colony, Jeevanbheemanaga...</td>\n",
       "      <td>3</td>\n",
       "      <td>1400</td>\n",
       "      <td>1.5</td>\n",
       "    </tr>\n",
       "    <tr>\n",
       "      <th>2</th>\n",
       "      <td>3</td>\n",
       "      <td>Srinagar, Banashankari,Bangalore</td>\n",
       "      <td>2</td>\n",
       "      <td>2000</td>\n",
       "      <td>2.6</td>\n",
       "    </tr>\n",
       "    <tr>\n",
       "      <th>3</th>\n",
       "      <td>4</td>\n",
       "      <td>Kadugodi, Krishnarajapura,Bangalore</td>\n",
       "      <td>3</td>\n",
       "      <td>1000</td>\n",
       "      <td>0.7</td>\n",
       "    </tr>\n",
       "    <tr>\n",
       "      <th>4</th>\n",
       "      <td>5</td>\n",
       "      <td>Yelahanka,Bangalore</td>\n",
       "      <td>5</td>\n",
       "      <td>4000</td>\n",
       "      <td>6.6</td>\n",
       "    </tr>\n",
       "  </tbody>\n",
       "</table>\n",
       "</div>"
      ],
      "text/plain": [
       "   id                                  Name of the place  BHK  \\\n",
       "0   1                      Thirumagondanahalli,Bangalore    2   \n",
       "1   2  LIC nivas,Nanja Reddy Colony, Jeevanbheemanaga...    3   \n",
       "2   3                   Srinagar, Banashankari,Bangalore    2   \n",
       "3   4                Kadugodi, Krishnarajapura,Bangalore    3   \n",
       "4   5                                Yelahanka,Bangalore    5   \n",
       "\n",
       "   Buildup Area (sq.ft)  Price (Cr.)  \n",
       "0                  2032          0.7  \n",
       "1                  1400          1.5  \n",
       "2                  2000          2.6  \n",
       "3                  1000          0.7  \n",
       "4                  4000          6.6  "
      ]
     },
     "execution_count": 2,
     "metadata": {},
     "output_type": "execute_result"
    }
   ],
   "source": [
    "data = pd.read_csv('./bangalore_housing.csv')\n",
    "data.head()"
   ]
  },
  {
   "cell_type": "code",
   "execution_count": 3,
   "id": "49cd505a",
   "metadata": {},
   "outputs": [],
   "source": [
    "data.rename(columns={\"Name of the place\":\"Name_of_the_place\",'Buildup Area (sq.ft)':'Buildup_Area_sq.ft', 'Price (Cr.)':'Price_Cr'},inplace=True)"
   ]
  },
  {
   "cell_type": "code",
   "execution_count": 4,
   "id": "157d662d",
   "metadata": {},
   "outputs": [
    {
     "data": {
      "text/html": [
       "<div>\n",
       "<style scoped>\n",
       "    .dataframe tbody tr th:only-of-type {\n",
       "        vertical-align: middle;\n",
       "    }\n",
       "\n",
       "    .dataframe tbody tr th {\n",
       "        vertical-align: top;\n",
       "    }\n",
       "\n",
       "    .dataframe thead th {\n",
       "        text-align: right;\n",
       "    }\n",
       "</style>\n",
       "<table border=\"1\" class=\"dataframe\">\n",
       "  <thead>\n",
       "    <tr style=\"text-align: right;\">\n",
       "      <th></th>\n",
       "      <th>id</th>\n",
       "      <th>Name_of_the_place</th>\n",
       "      <th>BHK</th>\n",
       "      <th>Buildup_Area_sq.ft</th>\n",
       "      <th>Price_Cr</th>\n",
       "    </tr>\n",
       "  </thead>\n",
       "  <tbody>\n",
       "    <tr>\n",
       "      <th>0</th>\n",
       "      <td>1</td>\n",
       "      <td>Thirumagondanahalli,Bangalore</td>\n",
       "      <td>2</td>\n",
       "      <td>2032</td>\n",
       "      <td>0.70</td>\n",
       "    </tr>\n",
       "    <tr>\n",
       "      <th>1</th>\n",
       "      <td>2</td>\n",
       "      <td>LIC nivas,Nanja Reddy Colony, Jeevanbheemanaga...</td>\n",
       "      <td>3</td>\n",
       "      <td>1400</td>\n",
       "      <td>1.50</td>\n",
       "    </tr>\n",
       "    <tr>\n",
       "      <th>2</th>\n",
       "      <td>3</td>\n",
       "      <td>Srinagar, Banashankari,Bangalore</td>\n",
       "      <td>2</td>\n",
       "      <td>2000</td>\n",
       "      <td>2.60</td>\n",
       "    </tr>\n",
       "    <tr>\n",
       "      <th>3</th>\n",
       "      <td>4</td>\n",
       "      <td>Kadugodi, Krishnarajapura,Bangalore</td>\n",
       "      <td>3</td>\n",
       "      <td>1000</td>\n",
       "      <td>0.70</td>\n",
       "    </tr>\n",
       "    <tr>\n",
       "      <th>4</th>\n",
       "      <td>5</td>\n",
       "      <td>Yelahanka,Bangalore</td>\n",
       "      <td>5</td>\n",
       "      <td>4000</td>\n",
       "      <td>6.60</td>\n",
       "    </tr>\n",
       "    <tr>\n",
       "      <th>...</th>\n",
       "      <td>...</td>\n",
       "      <td>...</td>\n",
       "      <td>...</td>\n",
       "      <td>...</td>\n",
       "      <td>...</td>\n",
       "    </tr>\n",
       "    <tr>\n",
       "      <th>4015</th>\n",
       "      <td>4016</td>\n",
       "      <td>Kattigenahalli,Bangalore</td>\n",
       "      <td>2</td>\n",
       "      <td>3000</td>\n",
       "      <td>1.08</td>\n",
       "    </tr>\n",
       "    <tr>\n",
       "      <th>4016</th>\n",
       "      <td>4017</td>\n",
       "      <td>Virgonagar, Aavalahalli,Bangalore</td>\n",
       "      <td>5</td>\n",
       "      <td>2252</td>\n",
       "      <td>0.85</td>\n",
       "    </tr>\n",
       "    <tr>\n",
       "      <th>4017</th>\n",
       "      <td>4018</td>\n",
       "      <td>Yelahanka,Bangalore</td>\n",
       "      <td>5</td>\n",
       "      <td>4000</td>\n",
       "      <td>6.60</td>\n",
       "    </tr>\n",
       "    <tr>\n",
       "      <th>4018</th>\n",
       "      <td>4019</td>\n",
       "      <td>Seeghehalli, Krishnarajapura,Bangalore</td>\n",
       "      <td>7</td>\n",
       "      <td>3600</td>\n",
       "      <td>1.90</td>\n",
       "    </tr>\n",
       "    <tr>\n",
       "      <th>4019</th>\n",
       "      <td>4020</td>\n",
       "      <td>Doddabanalli circle off white field road near ...</td>\n",
       "      <td>4</td>\n",
       "      <td>2200</td>\n",
       "      <td>0.99</td>\n",
       "    </tr>\n",
       "  </tbody>\n",
       "</table>\n",
       "<p>4020 rows × 5 columns</p>\n",
       "</div>"
      ],
      "text/plain": [
       "        id                                  Name_of_the_place  BHK  \\\n",
       "0        1                      Thirumagondanahalli,Bangalore    2   \n",
       "1        2  LIC nivas,Nanja Reddy Colony, Jeevanbheemanaga...    3   \n",
       "2        3                   Srinagar, Banashankari,Bangalore    2   \n",
       "3        4                Kadugodi, Krishnarajapura,Bangalore    3   \n",
       "4        5                                Yelahanka,Bangalore    5   \n",
       "...    ...                                                ...  ...   \n",
       "4015  4016                           Kattigenahalli,Bangalore    2   \n",
       "4016  4017                  Virgonagar, Aavalahalli,Bangalore    5   \n",
       "4017  4018                                Yelahanka,Bangalore    5   \n",
       "4018  4019             Seeghehalli, Krishnarajapura,Bangalore    7   \n",
       "4019  4020  Doddabanalli circle off white field road near ...    4   \n",
       "\n",
       "      Buildup_Area_sq.ft  Price_Cr  \n",
       "0                   2032      0.70  \n",
       "1                   1400      1.50  \n",
       "2                   2000      2.60  \n",
       "3                   1000      0.70  \n",
       "4                   4000      6.60  \n",
       "...                  ...       ...  \n",
       "4015                3000      1.08  \n",
       "4016                2252      0.85  \n",
       "4017                4000      6.60  \n",
       "4018                3600      1.90  \n",
       "4019                2200      0.99  \n",
       "\n",
       "[4020 rows x 5 columns]"
      ]
     },
     "execution_count": 4,
     "metadata": {},
     "output_type": "execute_result"
    }
   ],
   "source": [
    "data"
   ]
  },
  {
   "cell_type": "code",
   "execution_count": 5,
   "id": "2ece9d7b",
   "metadata": {},
   "outputs": [
    {
     "data": {
      "text/plain": [
       "(4020, 5)"
      ]
     },
     "execution_count": 5,
     "metadata": {},
     "output_type": "execute_result"
    }
   ],
   "source": [
    "data.shape"
   ]
  },
  {
   "cell_type": "code",
   "execution_count": 6,
   "id": "a87c48b8",
   "metadata": {},
   "outputs": [
    {
     "data": {
      "text/plain": [
       "id                    0\n",
       "Name_of_the_place     0\n",
       "BHK                   0\n",
       "Buildup_Area_sq.ft    0\n",
       "Price_Cr              0\n",
       "dtype: int64"
      ]
     },
     "execution_count": 6,
     "metadata": {},
     "output_type": "execute_result"
    }
   ],
   "source": [
    "data.isnull().sum()"
   ]
  },
  {
   "cell_type": "code",
   "execution_count": 7,
   "id": "47e449a9",
   "metadata": {},
   "outputs": [
    {
     "data": {
      "text/plain": [
       "0"
      ]
     },
     "execution_count": 7,
     "metadata": {},
     "output_type": "execute_result"
    }
   ],
   "source": [
    "data.duplicated().sum()"
   ]
  },
  {
   "cell_type": "code",
   "execution_count": 8,
   "id": "2a3bf447",
   "metadata": {},
   "outputs": [
    {
     "data": {
      "text/plain": [
       "id                    4020\n",
       "Name_of_the_place       55\n",
       "BHK                      9\n",
       "Buildup_Area_sq.ft      41\n",
       "Price_Cr                47\n",
       "dtype: int64"
      ]
     },
     "execution_count": 8,
     "metadata": {},
     "output_type": "execute_result"
    }
   ],
   "source": [
    "data.nunique()"
   ]
  },
  {
   "cell_type": "code",
   "execution_count": 9,
   "id": "40ba0c42",
   "metadata": {
    "scrolled": true
   },
   "outputs": [
    {
     "data": {
      "text/html": [
       "<div>\n",
       "<style scoped>\n",
       "    .dataframe tbody tr th:only-of-type {\n",
       "        vertical-align: middle;\n",
       "    }\n",
       "\n",
       "    .dataframe tbody tr th {\n",
       "        vertical-align: top;\n",
       "    }\n",
       "\n",
       "    .dataframe thead th {\n",
       "        text-align: right;\n",
       "    }\n",
       "</style>\n",
       "<table border=\"1\" class=\"dataframe\">\n",
       "  <thead>\n",
       "    <tr style=\"text-align: right;\">\n",
       "      <th></th>\n",
       "      <th>id</th>\n",
       "      <th>Name_of_the_place</th>\n",
       "      <th>BHK</th>\n",
       "      <th>Buildup_Area_sq.ft</th>\n",
       "      <th>Price_Cr</th>\n",
       "    </tr>\n",
       "  </thead>\n",
       "  <tbody>\n",
       "    <tr>\n",
       "      <th>0</th>\n",
       "      <td>1</td>\n",
       "      <td>Thirumagondanahalli,Bangalore</td>\n",
       "      <td>2</td>\n",
       "      <td>2032</td>\n",
       "      <td>0.7</td>\n",
       "    </tr>\n",
       "    <tr>\n",
       "      <th>1</th>\n",
       "      <td>2</td>\n",
       "      <td>LIC nivas,Nanja Reddy Colony, Jeevanbheemanaga...</td>\n",
       "      <td>3</td>\n",
       "      <td>1400</td>\n",
       "      <td>1.5</td>\n",
       "    </tr>\n",
       "    <tr>\n",
       "      <th>2</th>\n",
       "      <td>3</td>\n",
       "      <td>Srinagar, Banashankari,Bangalore</td>\n",
       "      <td>2</td>\n",
       "      <td>2000</td>\n",
       "      <td>2.6</td>\n",
       "    </tr>\n",
       "    <tr>\n",
       "      <th>3</th>\n",
       "      <td>4</td>\n",
       "      <td>Kadugodi, Krishnarajapura,Bangalore</td>\n",
       "      <td>3</td>\n",
       "      <td>1000</td>\n",
       "      <td>0.7</td>\n",
       "    </tr>\n",
       "    <tr>\n",
       "      <th>4</th>\n",
       "      <td>5</td>\n",
       "      <td>Yelahanka,Bangalore</td>\n",
       "      <td>5</td>\n",
       "      <td>4000</td>\n",
       "      <td>6.6</td>\n",
       "    </tr>\n",
       "  </tbody>\n",
       "</table>\n",
       "</div>"
      ],
      "text/plain": [
       "   id                                  Name_of_the_place  BHK  \\\n",
       "0   1                      Thirumagondanahalli,Bangalore    2   \n",
       "1   2  LIC nivas,Nanja Reddy Colony, Jeevanbheemanaga...    3   \n",
       "2   3                   Srinagar, Banashankari,Bangalore    2   \n",
       "3   4                Kadugodi, Krishnarajapura,Bangalore    3   \n",
       "4   5                                Yelahanka,Bangalore    5   \n",
       "\n",
       "   Buildup_Area_sq.ft  Price_Cr  \n",
       "0                2032       0.7  \n",
       "1                1400       1.5  \n",
       "2                2000       2.6  \n",
       "3                1000       0.7  \n",
       "4                4000       6.6  "
      ]
     },
     "execution_count": 9,
     "metadata": {},
     "output_type": "execute_result"
    }
   ],
   "source": [
    "data.head()"
   ]
  },
  {
   "cell_type": "code",
   "execution_count": 10,
   "id": "edbce6ba",
   "metadata": {},
   "outputs": [
    {
     "data": {
      "text/plain": [
       "Index(['id', 'Name_of_the_place', 'BHK', 'Buildup_Area_sq.ft', 'Price_Cr'], dtype='object')"
      ]
     },
     "execution_count": 10,
     "metadata": {},
     "output_type": "execute_result"
    }
   ],
   "source": [
    "data.columns"
   ]
  },
  {
   "cell_type": "code",
   "execution_count": 11,
   "id": "0d8646c6",
   "metadata": {},
   "outputs": [],
   "source": [
    "data1 = data.copy()"
   ]
  },
  {
   "cell_type": "code",
   "execution_count": 12,
   "id": "719ab7db",
   "metadata": {},
   "outputs": [],
   "source": [
    "le = LabelEncoder()"
   ]
  },
  {
   "cell_type": "code",
   "execution_count": 13,
   "id": "1354d86e",
   "metadata": {},
   "outputs": [],
   "source": [
    "data1[\"Name_of_the_place\"] = le.fit_transform(data1[\"Name_of_the_place\"])"
   ]
  },
  {
   "cell_type": "code",
   "execution_count": 14,
   "id": "17d9ba0f",
   "metadata": {
    "scrolled": true
   },
   "outputs": [
    {
     "data": {
      "text/html": [
       "<div>\n",
       "<style scoped>\n",
       "    .dataframe tbody tr th:only-of-type {\n",
       "        vertical-align: middle;\n",
       "    }\n",
       "\n",
       "    .dataframe tbody tr th {\n",
       "        vertical-align: top;\n",
       "    }\n",
       "\n",
       "    .dataframe thead th {\n",
       "        text-align: right;\n",
       "    }\n",
       "</style>\n",
       "<table border=\"1\" class=\"dataframe\">\n",
       "  <thead>\n",
       "    <tr style=\"text-align: right;\">\n",
       "      <th></th>\n",
       "      <th>id</th>\n",
       "      <th>Name_of_the_place</th>\n",
       "      <th>BHK</th>\n",
       "      <th>Buildup_Area_sq.ft</th>\n",
       "      <th>Price_Cr</th>\n",
       "    </tr>\n",
       "  </thead>\n",
       "  <tbody>\n",
       "    <tr>\n",
       "      <th>0</th>\n",
       "      <td>1</td>\n",
       "      <td>49</td>\n",
       "      <td>2</td>\n",
       "      <td>2032</td>\n",
       "      <td>0.70</td>\n",
       "    </tr>\n",
       "    <tr>\n",
       "      <th>1</th>\n",
       "      <td>2</td>\n",
       "      <td>28</td>\n",
       "      <td>3</td>\n",
       "      <td>1400</td>\n",
       "      <td>1.50</td>\n",
       "    </tr>\n",
       "    <tr>\n",
       "      <th>2</th>\n",
       "      <td>3</td>\n",
       "      <td>47</td>\n",
       "      <td>2</td>\n",
       "      <td>2000</td>\n",
       "      <td>2.60</td>\n",
       "    </tr>\n",
       "    <tr>\n",
       "      <th>3</th>\n",
       "      <td>4</td>\n",
       "      <td>26</td>\n",
       "      <td>3</td>\n",
       "      <td>1000</td>\n",
       "      <td>0.70</td>\n",
       "    </tr>\n",
       "    <tr>\n",
       "      <th>4</th>\n",
       "      <td>5</td>\n",
       "      <td>53</td>\n",
       "      <td>5</td>\n",
       "      <td>4000</td>\n",
       "      <td>6.60</td>\n",
       "    </tr>\n",
       "    <tr>\n",
       "      <th>...</th>\n",
       "      <td>...</td>\n",
       "      <td>...</td>\n",
       "      <td>...</td>\n",
       "      <td>...</td>\n",
       "      <td>...</td>\n",
       "    </tr>\n",
       "    <tr>\n",
       "      <th>4015</th>\n",
       "      <td>4016</td>\n",
       "      <td>27</td>\n",
       "      <td>2</td>\n",
       "      <td>3000</td>\n",
       "      <td>1.08</td>\n",
       "    </tr>\n",
       "    <tr>\n",
       "      <th>4016</th>\n",
       "      <td>4017</td>\n",
       "      <td>50</td>\n",
       "      <td>5</td>\n",
       "      <td>2252</td>\n",
       "      <td>0.85</td>\n",
       "    </tr>\n",
       "    <tr>\n",
       "      <th>4017</th>\n",
       "      <td>4018</td>\n",
       "      <td>53</td>\n",
       "      <td>5</td>\n",
       "      <td>4000</td>\n",
       "      <td>6.60</td>\n",
       "    </tr>\n",
       "    <tr>\n",
       "      <th>4018</th>\n",
       "      <td>4019</td>\n",
       "      <td>41</td>\n",
       "      <td>7</td>\n",
       "      <td>3600</td>\n",
       "      <td>1.90</td>\n",
       "    </tr>\n",
       "    <tr>\n",
       "      <th>4019</th>\n",
       "      <td>4020</td>\n",
       "      <td>14</td>\n",
       "      <td>4</td>\n",
       "      <td>2200</td>\n",
       "      <td>0.99</td>\n",
       "    </tr>\n",
       "  </tbody>\n",
       "</table>\n",
       "<p>4020 rows × 5 columns</p>\n",
       "</div>"
      ],
      "text/plain": [
       "        id  Name_of_the_place  BHK  Buildup_Area_sq.ft  Price_Cr\n",
       "0        1                 49    2                2032      0.70\n",
       "1        2                 28    3                1400      1.50\n",
       "2        3                 47    2                2000      2.60\n",
       "3        4                 26    3                1000      0.70\n",
       "4        5                 53    5                4000      6.60\n",
       "...    ...                ...  ...                 ...       ...\n",
       "4015  4016                 27    2                3000      1.08\n",
       "4016  4017                 50    5                2252      0.85\n",
       "4017  4018                 53    5                4000      6.60\n",
       "4018  4019                 41    7                3600      1.90\n",
       "4019  4020                 14    4                2200      0.99\n",
       "\n",
       "[4020 rows x 5 columns]"
      ]
     },
     "execution_count": 14,
     "metadata": {},
     "output_type": "execute_result"
    }
   ],
   "source": [
    "data1"
   ]
  },
  {
   "cell_type": "code",
   "execution_count": 15,
   "id": "a7a03e11",
   "metadata": {},
   "outputs": [
    {
     "data": {
      "text/plain": [
       "array([49, 28, 47, 26, 53, 11, 23,  1, 39, 29, 44, 10, 18, 43,  0, 54, 21,\n",
       "       20, 24, 38, 33,  8, 37, 22,  9, 19, 31, 35, 17, 32,  6, 46, 40,  3,\n",
       "       48,  4,  7, 16, 52, 42, 12,  2, 14, 45, 27, 50, 36, 34, 30, 15,  5,\n",
       "       41, 51, 25, 13])"
      ]
     },
     "execution_count": 15,
     "metadata": {},
     "output_type": "execute_result"
    }
   ],
   "source": [
    "data1.Name_of_the_place.unique()"
   ]
  },
  {
   "cell_type": "code",
   "execution_count": 16,
   "id": "f74aa7cb",
   "metadata": {},
   "outputs": [
    {
     "data": {
      "image/png": "[encoded data removed]",
      "text/plain": [
       "<Figure size 640x480 with 1 Axes>"
      ]
     },
     "metadata": {},
     "output_type": "display_data"
    },
    {
     "data": {
      "image/png": "[encoded data removed]",
      "text/plain": [
       "<Figure size 640x480 with 1 Axes>"
      ]
     },
     "metadata": {},
     "output_type": "display_data"
    },
    {
     "data": {
      "image/png": "[encoded data removed]",
      "text/plain": [
       "<Figure size 640x480 with 1 Axes>"
      ]
     },
     "metadata": {},
     "output_type": "display_data"
    },
    {
     "data": {
      "image/png": "[encoded data removed]",
      "text/plain": [
       "<Figure size 640x480 with 1 Axes>"
      ]
     },
     "metadata": {},
     "output_type": "display_data"
    },
    {
     "data": {
      "image/png": "[encoded data removed]",
      "text/plain": [
       "<Figure size 640x480 with 1 Axes>"
      ]
     },
     "metadata": {},
     "output_type": "display_data"
    }
   ],
   "source": [
    "for i in data1.columns:\n",
    "    sns.boxplot(y=data1[i])\n",
    "    plt.show()"
   ]
  },
  {
   "cell_type": "code",
   "execution_count": 17,
   "id": "8ccaee0f",
   "metadata": {},
   "outputs": [],
   "source": [
    "def outerlimit(col):\n",
    "    Q3,Q1 = np.nanpercentile(col,[75,25])\n",
    "    IQR = Q3-Q1\n",
    "    UL = Q3+1.5*IQR\n",
    "    LL = Q1-1.5*IQR\n",
    "    return UL,LL"
   ]
  },
  {
   "cell_type": "code",
   "execution_count": 18,
   "id": "f2af47ac",
   "metadata": {},
   "outputs": [],
   "source": [
    "for i in data1.columns:\n",
    "    UL,LL = outerlimit(data1[i])\n",
    "    data1[i] = np.where((data1[i]>UL)|(data1[i]<LL),np.nan,data1[i])"
   ]
  },
  {
   "cell_type": "code",
   "execution_count": 19,
   "id": "f93dd220",
   "metadata": {},
   "outputs": [
    {
     "data": {
      "image/png": "[encoded data removed]",
      "text/plain": [
       "<Figure size 640x480 with 1 Axes>"
      ]
     },
     "metadata": {},
     "output_type": "display_data"
    },
    {
     "data": {
      "image/png": "[encoded data removed]",
      "text/plain": [
       "<Figure size 640x480 with 1 Axes>"
      ]
     },
     "metadata": {},
     "output_type": "display_data"
    },
    {
     "data": {
      "image/png": "[encoded data removed]",
      "text/plain": [
       "<Figure size 640x480 with 1 Axes>"
      ]
     },
     "metadata": {},
     "output_type": "display_data"
    },
    {
     "data": {
      "image/png": "[encoded data removed]",
      "text/plain": [
       "<Figure size 640x480 with 1 Axes>"
      ]
     },
     "metadata": {},
     "output_type": "display_data"
    },
    {
     "data": {
      "image/png": "[encoded data removed]",
      "text/plain": [
       "<Figure size 640x480 with 1 Axes>"
      ]
     },
     "metadata": {},
     "output_type": "display_data"
    }
   ],
   "source": [
    "for i in data1.columns:\n",
    "    sns.boxplot(y=data1[i])\n",
    "    plt.show()"
   ]
  },
  {
   "cell_type": "code",
   "execution_count": 20,
   "id": "c8dd6605",
   "metadata": {},
   "outputs": [],
   "source": [
    "data1.dropna(inplace=True)"
   ]
  },
  {
   "cell_type": "code",
   "execution_count": 21,
   "id": "75bcebaf",
   "metadata": {},
   "outputs": [],
   "source": [
    "sc = StandardScaler()"
   ]
  },
  {
   "cell_type": "code",
   "execution_count": 22,
   "id": "3a05c790",
   "metadata": {
    "scrolled": true
   },
   "outputs": [],
   "source": [
    "x = data1.iloc[:,2:-1].values\n",
    "y = data1.iloc[:,-1].values"
   ]
  },
  {
   "cell_type": "code",
   "execution_count": 23,
   "id": "fe6dabc5",
   "metadata": {},
   "outputs": [],
   "source": [
    "x = sc.fit_transform(x)"
   ]
  },
  {
   "cell_type": "code",
   "execution_count": 24,
   "id": "14d2cbb0",
   "metadata": {},
   "outputs": [],
   "source": [
    "x_train,x_test,y_train,y_test = train_test_split(x,y,test_size=0.2,random_state=42,shuffle=True)"
   ]
  },
  {
   "cell_type": "code",
   "execution_count": 25,
   "id": "70ada093",
   "metadata": {},
   "outputs": [],
   "source": [
    "models = {\"LinearRegression\":LinearRegression(),\n",
    "          \"Lasso\":Lasso(),\n",
    "          \"Ridge\":Ridge(),\n",
    "          \"RandomForestRegressor\":RandomForestRegressor(),\n",
    "          \"AdaBoostRegressor\":AdaBoostRegressor(),\n",
    "          \"GradientBoostingRegressor\":GradientBoostingRegressor(),\n",
    "          \"DecisionTreeRegressor\":DecisionTreeRegressor(),\n",
    "          \"LinearSVR\":LinearSVR()\n",
    "    \n",
    "}"
   ]
  },
  {
   "cell_type": "code",
   "execution_count": 26,
   "id": "fa8a7990",
   "metadata": {},
   "outputs": [
    {
     "name": "stdout",
     "output_type": "stream",
     "text": [
      "Cross validation model:LinearRegression\n",
      "Avg rmse: 1.341178130114618\n",
      "****************************************************************************************************\n",
      "Cross validation model:Lasso\n",
      "Avg rmse: 1.6534620585231967\n",
      "****************************************************************************************************\n",
      "Cross validation model:Ridge\n",
      "Avg rmse: 1.341178065637338\n",
      "****************************************************************************************************\n",
      "Cross validation model:RandomForestRegressor\n",
      "Avg rmse: 0.04752482976813012\n",
      "****************************************************************************************************\n",
      "Cross validation model:AdaBoostRegressor\n",
      "Avg rmse: 0.5709449037114868\n",
      "****************************************************************************************************\n",
      "Cross validation model:GradientBoostingRegressor\n",
      "Avg rmse: 0.12469846966054905\n",
      "****************************************************************************************************\n",
      "Cross validation model:DecisionTreeRegressor\n",
      "Avg rmse: 0.0529186089136911\n",
      "****************************************************************************************************\n",
      "Cross validation model:LinearSVR\n",
      "Avg rmse: 1.5101327653178778\n",
      "****************************************************************************************************\n"
     ]
    }
   ],
   "source": [
    "for name,model in models.items():\n",
    "    scores = cross_val_score(model,x,y,scoring=\"neg_mean_squared_error\",cv=10,n_jobs=1)\n",
    "    print(\"Cross validation model:{}\".format(name))\n",
    "    rmse = np.sqrt(-scores)\n",
    "    avg_rmse = np.mean(rmse)\n",
    "    print(\"Avg rmse:\",avg_rmse)\n",
    "    print(\"*\"*100)"
   ]
  },
  {
   "cell_type": "markdown",
   "id": "e7c71767",
   "metadata": {},
   "source": [
    "#### lower rmse better model and better prediction, so selecting Random Forest Regressor"
   ]
  },
  {
   "cell_type": "code",
   "execution_count": 27,
   "id": "a3f01b2b",
   "metadata": {},
   "outputs": [],
   "source": [
    "Model = RandomForestRegressor()"
   ]
  },
  {
   "cell_type": "code",
   "execution_count": 28,
   "id": "fff9c011",
   "metadata": {},
   "outputs": [],
   "source": [
    "RFR = Model.fit(x_train,y_train)"
   ]
  },
  {
   "cell_type": "code",
   "execution_count": 29,
   "id": "e04bc443",
   "metadata": {},
   "outputs": [],
   "source": [
    "y_pred = RFR.predict(x_test)"
   ]
  },
  {
   "cell_type": "code",
   "execution_count": 30,
   "id": "723b9eaf",
   "metadata": {},
   "outputs": [
    {
     "name": "stdout",
     "output_type": "stream",
     "text": [
      "Score:0.9985566938851638\n"
     ]
    }
   ],
   "source": [
    "score = r2_score(y_test,y_pred)\n",
    "print(\"Score:{}\".format(score))"
   ]
  },
  {
   "cell_type": "code",
   "execution_count": 31,
   "id": "ca652f4c",
   "metadata": {},
   "outputs": [
    {
     "data": {
      "text/plain": [
       "0.9985566938851638"
      ]
     },
     "execution_count": 31,
     "metadata": {},
     "output_type": "execute_result"
    }
   ],
   "source": [
    "RFR.score(x_test,y_test)"
   ]
  },
  {
   "cell_type": "code",
   "execution_count": 32,
   "id": "040f292a",
   "metadata": {},
   "outputs": [
    {
     "data": {
      "text/plain": [
       "0.997471858469233"
      ]
     },
     "execution_count": 32,
     "metadata": {},
     "output_type": "execute_result"
    }
   ],
   "source": [
    "RFR.score(x_train,y_train)"
   ]
  },
  {
   "cell_type": "code",
   "execution_count": 33,
   "id": "4818c4da",
   "metadata": {},
   "outputs": [
    {
     "data": {
      "text/plain": [
       "0.997471858469233"
      ]
     },
     "execution_count": 33,
     "metadata": {},
     "output_type": "execute_result"
    }
   ],
   "source": [
    "Model.score(x_train,y_train)"
   ]
  },
  {
   "cell_type": "code",
   "execution_count": 34,
   "id": "054399de",
   "metadata": {},
   "outputs": [
    {
     "data": {
      "text/plain": [
       "0.9985566938851638"
      ]
     },
     "execution_count": 34,
     "metadata": {},
     "output_type": "execute_result"
    }
   ],
   "source": [
    "Model.score(x_test,y_test)"
   ]
  },
  {
   "cell_type": "code",
   "execution_count": 35,
   "id": "71462fe3",
   "metadata": {},
   "outputs": [
    {
     "data": {
      "text/html": [
       "<div>\n",
       "<style scoped>\n",
       "    .dataframe tbody tr th:only-of-type {\n",
       "        vertical-align: middle;\n",
       "    }\n",
       "\n",
       "    .dataframe tbody tr th {\n",
       "        vertical-align: top;\n",
       "    }\n",
       "\n",
       "    .dataframe thead th {\n",
       "        text-align: right;\n",
       "    }\n",
       "</style>\n",
       "<table border=\"1\" class=\"dataframe\">\n",
       "  <thead>\n",
       "    <tr style=\"text-align: right;\">\n",
       "      <th></th>\n",
       "      <th>Actual</th>\n",
       "      <th>Prediction</th>\n",
       "    </tr>\n",
       "  </thead>\n",
       "  <tbody>\n",
       "    <tr>\n",
       "      <th>0</th>\n",
       "      <td>3.10</td>\n",
       "      <td>3.100000</td>\n",
       "    </tr>\n",
       "    <tr>\n",
       "      <th>1</th>\n",
       "      <td>1.95</td>\n",
       "      <td>1.950000</td>\n",
       "    </tr>\n",
       "    <tr>\n",
       "      <th>2</th>\n",
       "      <td>2.75</td>\n",
       "      <td>2.750000</td>\n",
       "    </tr>\n",
       "    <tr>\n",
       "      <th>3</th>\n",
       "      <td>1.95</td>\n",
       "      <td>1.950000</td>\n",
       "    </tr>\n",
       "    <tr>\n",
       "      <th>4</th>\n",
       "      <td>1.20</td>\n",
       "      <td>1.196386</td>\n",
       "    </tr>\n",
       "    <tr>\n",
       "      <th>...</th>\n",
       "      <td>...</td>\n",
       "      <td>...</td>\n",
       "    </tr>\n",
       "    <tr>\n",
       "      <th>681</th>\n",
       "      <td>0.75</td>\n",
       "      <td>0.750000</td>\n",
       "    </tr>\n",
       "    <tr>\n",
       "      <th>682</th>\n",
       "      <td>3.50</td>\n",
       "      <td>3.500000</td>\n",
       "    </tr>\n",
       "    <tr>\n",
       "      <th>683</th>\n",
       "      <td>1.20</td>\n",
       "      <td>1.196386</td>\n",
       "    </tr>\n",
       "    <tr>\n",
       "      <th>684</th>\n",
       "      <td>1.10</td>\n",
       "      <td>1.100000</td>\n",
       "    </tr>\n",
       "    <tr>\n",
       "      <th>685</th>\n",
       "      <td>3.10</td>\n",
       "      <td>3.100000</td>\n",
       "    </tr>\n",
       "  </tbody>\n",
       "</table>\n",
       "<p>686 rows × 2 columns</p>\n",
       "</div>"
      ],
      "text/plain": [
       "     Actual  Prediction\n",
       "0      3.10    3.100000\n",
       "1      1.95    1.950000\n",
       "2      2.75    2.750000\n",
       "3      1.95    1.950000\n",
       "4      1.20    1.196386\n",
       "..      ...         ...\n",
       "681    0.75    0.750000\n",
       "682    3.50    3.500000\n",
       "683    1.20    1.196386\n",
       "684    1.10    1.100000\n",
       "685    3.10    3.100000\n",
       "\n",
       "[686 rows x 2 columns]"
      ]
     },
     "execution_count": 35,
     "metadata": {},
     "output_type": "execute_result"
    }
   ],
   "source": [
    "Output = pd.DataFrame(zip(y_test,y_pred),columns=[\"Actual\",\"Prediction\"],dtype=float)\n",
    "Output"
   ]
  },
  {
   "cell_type": "code",
   "execution_count": 36,
   "id": "fee1d8c8",
   "metadata": {},
   "outputs": [
    {
     "data": {
      "image/png": "[encoded data removed]",
      "text/plain": [
       "<Figure size 640x480 with 1 Axes>"
      ]
     },
     "metadata": {},
     "output_type": "display_data"
    }
   ],
   "source": [
    "sns.regplot(data=Output,x=\"Actual\",y=\"Prediction\")\n",
    "plt.show()"
   ]
  },
  {
   "cell_type": "code",
   "execution_count": null,
   "id": "722b1798",
   "metadata": {},
   "outputs": [],
   "source": []
  }
 ],
 "metadata": {
  "kernelspec": {
   "display_name": "Python 3 (ipykernel)",
   "language": "python",
   "name": "python3"
  },
  "language_info": {
   "codemirror_mode": {
    "name": "ipython",
    "version": 3
   },
   "file_extension": ".py",
   "mimetype": "text/x-python",
   "name": "python",
   "nbconvert_exporter": "python",
   "pygments_lexer": "ipython3",
   "version": "3.10.9"
  }
 },
 "nbformat": 4,
 "nbformat_minor": 5
}
