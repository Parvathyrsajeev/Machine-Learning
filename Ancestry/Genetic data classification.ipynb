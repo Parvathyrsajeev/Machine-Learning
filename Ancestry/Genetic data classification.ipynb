{
 "cells": [
  {
   "cell_type": "markdown",
   "id": "431b5cdb",
   "metadata": {},
   "source": [
    "<h1 align=center> Genealogical Classification </h1>"
   ]
  },
  {
   "cell_type": "markdown",
   "id": "d7d818fc",
   "metadata": {},
   "source": [
    "\n",
    "#### The \"genetic_data_train.csv\" file contains training data . It includes genetic information from 𝑁 = 183 individuals sampled from different populations worldwide. Each row represents an individual, and the columns contain the principal component values and the corresponding ancestry labels. The available ancestral categories are African, European, East Asian, Oceanian, and Native American.\n",
    "\n",
    "#### The \"genetic_data_test.csv\" file contains test data . It includes genetic information from 𝑁 = 111 individuals, with each row representing an individual and the columns containing the principal component values and the corresponding ancestry labels. The test dataset also includes individuals with \"Unknown\" ancestry, as well as individuals with Mexican and African American ancestry. The five individuals with \"Unknown\" ancestry belong to one of the five ancestries represented in the training set, while the Mexican and African American individuals have varying degrees of ancestral proportions due to historical mixing.\n"
   ]
  },
  {
   "cell_type": "code",
   "execution_count": 1,
   "id": "8cd90807",
   "metadata": {},
   "outputs": [],
   "source": [
    "# importing necessary libraries\n",
    "import pandas as pd\n",
    "import numpy as np\n",
    "import matplotlib.pyplot as plt\n",
    "import seaborn as sns\n",
    "import warnings\n",
    "\n",
    "from sklearn.preprocessing import StandardScaler,RobustScaler,LabelEncoder,label_binarize\n",
    "from sklearn.linear_model import LogisticRegression\n",
    "from sklearn.metrics import accuracy_score,confusion_matrix,RocCurveDisplay,roc_curve,auc\n",
    "from sklearn.ensemble import AdaBoostClassifier,RandomForestClassifier,GradientBoostingClassifier\n",
    "from sklearn.neighbors import KNeighborsClassifier\n",
    "from sklearn.tree import DecisionTreeClassifier\n",
    "from sklearn.model_selection import train_test_split,cross_val_score\n",
    "from imblearn.over_sampling import RandomOverSampler,SMOTE\n",
    "from sklearn.multiclass import OneVsRestClassifier\n",
    "\n",
    "warnings.filterwarnings('ignore')"
   ]
  },
  {
   "cell_type": "code",
   "execution_count": 2,
   "id": "5c9cfab8",
   "metadata": {},
   "outputs": [
    {
     "data": {
      "text/html": [
       "<div>\n",
       "<style scoped>\n",
       "    .dataframe tbody tr th:only-of-type {\n",
       "        vertical-align: middle;\n",
       "    }\n",
       "\n",
       "    .dataframe tbody tr th {\n",
       "        vertical-align: top;\n",
       "    }\n",
       "\n",
       "    .dataframe thead th {\n",
       "        text-align: right;\n",
       "    }\n",
       "</style>\n",
       "<table border=\"1\" class=\"dataframe\">\n",
       "  <thead>\n",
       "    <tr style=\"text-align: right;\">\n",
       "      <th></th>\n",
       "      <th>PC1</th>\n",
       "      <th>PC2</th>\n",
       "      <th>PC3</th>\n",
       "      <th>PC4</th>\n",
       "      <th>PC5</th>\n",
       "      <th>PC6</th>\n",
       "      <th>PC7</th>\n",
       "      <th>PC8</th>\n",
       "      <th>PC9</th>\n",
       "      <th>PC10</th>\n",
       "      <th>Ancestry</th>\n",
       "    </tr>\n",
       "  </thead>\n",
       "  <tbody>\n",
       "    <tr>\n",
       "      <th>0</th>\n",
       "      <td>-10.901171</td>\n",
       "      <td>0.798743</td>\n",
       "      <td>-1.143301</td>\n",
       "      <td>-1.070960</td>\n",
       "      <td>11.856396</td>\n",
       "      <td>-2.265965</td>\n",
       "      <td>4.536405</td>\n",
       "      <td>1.519959</td>\n",
       "      <td>-2.214294</td>\n",
       "      <td>-0.671274</td>\n",
       "      <td>African</td>\n",
       "    </tr>\n",
       "    <tr>\n",
       "      <th>1</th>\n",
       "      <td>-9.990054</td>\n",
       "      <td>1.416821</td>\n",
       "      <td>-0.729626</td>\n",
       "      <td>-0.443621</td>\n",
       "      <td>10.418594</td>\n",
       "      <td>0.443514</td>\n",
       "      <td>2.640659</td>\n",
       "      <td>-4.637746</td>\n",
       "      <td>3.351629</td>\n",
       "      <td>-0.671274</td>\n",
       "      <td>African</td>\n",
       "    </tr>\n",
       "    <tr>\n",
       "      <th>2</th>\n",
       "      <td>-9.345388</td>\n",
       "      <td>2.913054</td>\n",
       "      <td>-0.921421</td>\n",
       "      <td>0.029173</td>\n",
       "      <td>10.672615</td>\n",
       "      <td>-2.052552</td>\n",
       "      <td>5.140476</td>\n",
       "      <td>-1.451096</td>\n",
       "      <td>0.444183</td>\n",
       "      <td>-0.671274</td>\n",
       "      <td>African</td>\n",
       "    </tr>\n",
       "    <tr>\n",
       "      <th>3</th>\n",
       "      <td>-11.221507</td>\n",
       "      <td>1.733021</td>\n",
       "      <td>-2.339817</td>\n",
       "      <td>0.045786</td>\n",
       "      <td>13.195087</td>\n",
       "      <td>-3.068897</td>\n",
       "      <td>2.863434</td>\n",
       "      <td>-2.259194</td>\n",
       "      <td>2.374566</td>\n",
       "      <td>-0.671274</td>\n",
       "      <td>African</td>\n",
       "    </tr>\n",
       "    <tr>\n",
       "      <th>4</th>\n",
       "      <td>-10.175158</td>\n",
       "      <td>2.066307</td>\n",
       "      <td>-0.785493</td>\n",
       "      <td>-0.632400</td>\n",
       "      <td>7.461272</td>\n",
       "      <td>-1.643509</td>\n",
       "      <td>0.715258</td>\n",
       "      <td>-3.982752</td>\n",
       "      <td>0.098681</td>\n",
       "      <td>-0.671274</td>\n",
       "      <td>African</td>\n",
       "    </tr>\n",
       "  </tbody>\n",
       "</table>\n",
       "</div>"
      ],
      "text/plain": [
       "         PC1       PC2       PC3       PC4        PC5       PC6       PC7  \\\n",
       "0 -10.901171  0.798743 -1.143301 -1.070960  11.856396 -2.265965  4.536405   \n",
       "1  -9.990054  1.416821 -0.729626 -0.443621  10.418594  0.443514  2.640659   \n",
       "2  -9.345388  2.913054 -0.921421  0.029173  10.672615 -2.052552  5.140476   \n",
       "3 -11.221507  1.733021 -2.339817  0.045786  13.195087 -3.068897  2.863434   \n",
       "4 -10.175158  2.066307 -0.785493 -0.632400   7.461272 -1.643509  0.715258   \n",
       "\n",
       "        PC8       PC9      PC10 Ancestry  \n",
       "0  1.519959 -2.214294 -0.671274  African  \n",
       "1 -4.637746  3.351629 -0.671274  African  \n",
       "2 -1.451096  0.444183 -0.671274  African  \n",
       "3 -2.259194  2.374566 -0.671274  African  \n",
       "4 -3.982752  0.098681 -0.671274  African  "
      ]
     },
     "execution_count": 2,
     "metadata": {},
     "output_type": "execute_result"
    }
   ],
   "source": [
    "# loading training data\n",
    "df1 = pd.read_csv('./genetic_data_train.csv')\n",
    "df1.head()"
   ]
  },
  {
   "cell_type": "code",
   "execution_count": 3,
   "id": "95d40804",
   "metadata": {},
   "outputs": [
    {
     "data": {
      "text/html": [
       "<div>\n",
       "<style scoped>\n",
       "    .dataframe tbody tr th:only-of-type {\n",
       "        vertical-align: middle;\n",
       "    }\n",
       "\n",
       "    .dataframe tbody tr th {\n",
       "        vertical-align: top;\n",
       "    }\n",
       "\n",
       "    .dataframe thead th {\n",
       "        text-align: right;\n",
       "    }\n",
       "</style>\n",
       "<table border=\"1\" class=\"dataframe\">\n",
       "  <thead>\n",
       "    <tr style=\"text-align: right;\">\n",
       "      <th></th>\n",
       "      <th>PC1</th>\n",
       "      <th>PC2</th>\n",
       "      <th>PC3</th>\n",
       "      <th>PC4</th>\n",
       "      <th>PC5</th>\n",
       "      <th>PC6</th>\n",
       "      <th>PC7</th>\n",
       "      <th>PC8</th>\n",
       "      <th>PC9</th>\n",
       "      <th>PC10</th>\n",
       "      <th>Ancestry</th>\n",
       "    </tr>\n",
       "  </thead>\n",
       "  <tbody>\n",
       "    <tr>\n",
       "      <th>0</th>\n",
       "      <td>2.517683</td>\n",
       "      <td>5.464283</td>\n",
       "      <td>9.067873</td>\n",
       "      <td>-4.965928</td>\n",
       "      <td>-0.741937</td>\n",
       "      <td>0.039785</td>\n",
       "      <td>0.573279</td>\n",
       "      <td>-0.216918</td>\n",
       "      <td>2.454823</td>\n",
       "      <td>-0.671274</td>\n",
       "      <td>Unknown</td>\n",
       "    </tr>\n",
       "    <tr>\n",
       "      <th>1</th>\n",
       "      <td>6.077012</td>\n",
       "      <td>1.032867</td>\n",
       "      <td>-5.795883</td>\n",
       "      <td>-3.490064</td>\n",
       "      <td>-0.600204</td>\n",
       "      <td>-0.120803</td>\n",
       "      <td>1.243767</td>\n",
       "      <td>1.821390</td>\n",
       "      <td>-1.173053</td>\n",
       "      <td>2.442467</td>\n",
       "      <td>Unknown</td>\n",
       "    </tr>\n",
       "    <tr>\n",
       "      <th>2</th>\n",
       "      <td>1.016945</td>\n",
       "      <td>-2.913299</td>\n",
       "      <td>0.907702</td>\n",
       "      <td>1.233580</td>\n",
       "      <td>-1.983452</td>\n",
       "      <td>1.605964</td>\n",
       "      <td>2.674998</td>\n",
       "      <td>-0.732921</td>\n",
       "      <td>-2.157438</td>\n",
       "      <td>-0.671274</td>\n",
       "      <td>Unknown</td>\n",
       "    </tr>\n",
       "    <tr>\n",
       "      <th>3</th>\n",
       "      <td>-10.860926</td>\n",
       "      <td>2.545077</td>\n",
       "      <td>0.023950</td>\n",
       "      <td>-1.474450</td>\n",
       "      <td>0.372286</td>\n",
       "      <td>-2.609954</td>\n",
       "      <td>-2.794092</td>\n",
       "      <td>1.264747</td>\n",
       "      <td>-3.974644</td>\n",
       "      <td>-0.671274</td>\n",
       "      <td>Unknown</td>\n",
       "    </tr>\n",
       "    <tr>\n",
       "      <th>4</th>\n",
       "      <td>4.790262</td>\n",
       "      <td>3.621650</td>\n",
       "      <td>-1.442221</td>\n",
       "      <td>5.459907</td>\n",
       "      <td>-0.864235</td>\n",
       "      <td>-2.591185</td>\n",
       "      <td>-0.062762</td>\n",
       "      <td>0.515344</td>\n",
       "      <td>0.228729</td>\n",
       "      <td>-0.671274</td>\n",
       "      <td>Unknown</td>\n",
       "    </tr>\n",
       "  </tbody>\n",
       "</table>\n",
       "</div>"
      ],
      "text/plain": [
       "         PC1       PC2       PC3       PC4       PC5       PC6       PC7  \\\n",
       "0   2.517683  5.464283  9.067873 -4.965928 -0.741937  0.039785  0.573279   \n",
       "1   6.077012  1.032867 -5.795883 -3.490064 -0.600204 -0.120803  1.243767   \n",
       "2   1.016945 -2.913299  0.907702  1.233580 -1.983452  1.605964  2.674998   \n",
       "3 -10.860926  2.545077  0.023950 -1.474450  0.372286 -2.609954 -2.794092   \n",
       "4   4.790262  3.621650 -1.442221  5.459907 -0.864235 -2.591185 -0.062762   \n",
       "\n",
       "        PC8       PC9      PC10 Ancestry  \n",
       "0 -0.216918  2.454823 -0.671274  Unknown  \n",
       "1  1.821390 -1.173053  2.442467  Unknown  \n",
       "2 -0.732921 -2.157438 -0.671274  Unknown  \n",
       "3  1.264747 -3.974644 -0.671274  Unknown  \n",
       "4  0.515344  0.228729 -0.671274  Unknown  "
      ]
     },
     "execution_count": 3,
     "metadata": {},
     "output_type": "execute_result"
    }
   ],
   "source": [
    "# loading testing data\n",
    "df2 = pd.read_csv('./genetic_data_test.csv')\n",
    "df2.head()"
   ]
  },
  {
   "cell_type": "code",
   "execution_count": 4,
   "id": "1d25036a",
   "metadata": {},
   "outputs": [
    {
     "data": {
      "text/plain": [
       "array(['Unknown', 'Mexican', 'AfricanAmerican'], dtype=object)"
      ]
     },
     "execution_count": 4,
     "metadata": {},
     "output_type": "execute_result"
    }
   ],
   "source": [
    "df2.Ancestry.unique()"
   ]
  },
  {
   "cell_type": "code",
   "execution_count": 5,
   "id": "fd814f71",
   "metadata": {},
   "outputs": [
    {
     "name": "stdout",
     "output_type": "stream",
     "text": [
      "<class 'pandas.core.frame.DataFrame'>\n",
      "RangeIndex: 183 entries, 0 to 182\n",
      "Data columns (total 11 columns):\n",
      " #   Column    Non-Null Count  Dtype  \n",
      "---  ------    --------------  -----  \n",
      " 0   PC1       183 non-null    float64\n",
      " 1   PC2       183 non-null    float64\n",
      " 2   PC3       183 non-null    float64\n",
      " 3   PC4       183 non-null    float64\n",
      " 4   PC5       183 non-null    float64\n",
      " 5   PC6       183 non-null    float64\n",
      " 6   PC7       183 non-null    float64\n",
      " 7   PC8       183 non-null    float64\n",
      " 8   PC9       183 non-null    float64\n",
      " 9   PC10      183 non-null    float64\n",
      " 10  Ancestry  183 non-null    object \n",
      "dtypes: float64(10), object(1)\n",
      "memory usage: 15.9+ KB\n"
     ]
    }
   ],
   "source": [
    "df1.info()"
   ]
  },
  {
   "cell_type": "code",
   "execution_count": 6,
   "id": "284aefcb",
   "metadata": {},
   "outputs": [
    {
     "data": {
      "text/plain": [
       "(183, 11)"
      ]
     },
     "execution_count": 6,
     "metadata": {},
     "output_type": "execute_result"
    }
   ],
   "source": [
    "df1.shape"
   ]
  },
  {
   "cell_type": "code",
   "execution_count": 7,
   "id": "e18621eb",
   "metadata": {},
   "outputs": [
    {
     "data": {
      "text/plain": [
       "2013"
      ]
     },
     "execution_count": 7,
     "metadata": {},
     "output_type": "execute_result"
    }
   ],
   "source": [
    "df1.size"
   ]
  },
  {
   "cell_type": "code",
   "execution_count": 8,
   "id": "86ad7b39",
   "metadata": {},
   "outputs": [
    {
     "data": {
      "text/plain": [
       "PC1         0\n",
       "PC2         0\n",
       "PC3         0\n",
       "PC4         0\n",
       "PC5         0\n",
       "PC6         0\n",
       "PC7         0\n",
       "PC8         0\n",
       "PC9         0\n",
       "PC10        0\n",
       "Ancestry    0\n",
       "dtype: int64"
      ]
     },
     "execution_count": 8,
     "metadata": {},
     "output_type": "execute_result"
    }
   ],
   "source": [
    "df1.isnull().sum()"
   ]
  },
  {
   "cell_type": "code",
   "execution_count": 9,
   "id": "243bf15f",
   "metadata": {},
   "outputs": [
    {
     "data": {
      "text/plain": [
       "0"
      ]
     },
     "execution_count": 9,
     "metadata": {},
     "output_type": "execute_result"
    }
   ],
   "source": [
    "df1.duplicated().sum()"
   ]
  },
  {
   "cell_type": "code",
   "execution_count": 10,
   "id": "97818c65",
   "metadata": {},
   "outputs": [
    {
     "name": "stdout",
     "output_type": "stream",
     "text": [
      "<class 'pandas.core.frame.DataFrame'>\n",
      "RangeIndex: 111 entries, 0 to 110\n",
      "Data columns (total 11 columns):\n",
      " #   Column    Non-Null Count  Dtype  \n",
      "---  ------    --------------  -----  \n",
      " 0   PC1       111 non-null    float64\n",
      " 1   PC2       111 non-null    float64\n",
      " 2   PC3       111 non-null    float64\n",
      " 3   PC4       111 non-null    float64\n",
      " 4   PC5       111 non-null    float64\n",
      " 5   PC6       111 non-null    float64\n",
      " 6   PC7       111 non-null    float64\n",
      " 7   PC8       111 non-null    float64\n",
      " 8   PC9       111 non-null    float64\n",
      " 9   PC10      111 non-null    float64\n",
      " 10  Ancestry  111 non-null    object \n",
      "dtypes: float64(10), object(1)\n",
      "memory usage: 9.7+ KB\n"
     ]
    }
   ],
   "source": [
    "df2.info()"
   ]
  },
  {
   "cell_type": "code",
   "execution_count": 11,
   "id": "28e538d5",
   "metadata": {},
   "outputs": [
    {
     "data": {
      "text/plain": [
       "(111, 11)"
      ]
     },
     "execution_count": 11,
     "metadata": {},
     "output_type": "execute_result"
    }
   ],
   "source": [
    "df2.shape"
   ]
  },
  {
   "cell_type": "code",
   "execution_count": 12,
   "id": "23ac0115",
   "metadata": {},
   "outputs": [
    {
     "data": {
      "text/plain": [
       "PC1         0\n",
       "PC2         0\n",
       "PC3         0\n",
       "PC4         0\n",
       "PC5         0\n",
       "PC6         0\n",
       "PC7         0\n",
       "PC8         0\n",
       "PC9         0\n",
       "PC10        0\n",
       "Ancestry    0\n",
       "dtype: int64"
      ]
     },
     "execution_count": 12,
     "metadata": {},
     "output_type": "execute_result"
    }
   ],
   "source": [
    "df2.isnull().sum()"
   ]
  },
  {
   "cell_type": "code",
   "execution_count": 13,
   "id": "34be383b",
   "metadata": {},
   "outputs": [
    {
     "data": {
      "text/plain": [
       "0"
      ]
     },
     "execution_count": 13,
     "metadata": {},
     "output_type": "execute_result"
    }
   ],
   "source": [
    "df2.duplicated().sum()"
   ]
  },
  {
   "cell_type": "code",
   "execution_count": 14,
   "id": "bebd79ff",
   "metadata": {},
   "outputs": [],
   "source": [
    "le = LabelEncoder()"
   ]
  },
  {
   "cell_type": "code",
   "execution_count": 15,
   "id": "3caec53b",
   "metadata": {},
   "outputs": [],
   "source": [
    "df1['Ancestry_n'] = le.fit_transform(df1.Ancestry)"
   ]
  },
  {
   "cell_type": "code",
   "execution_count": 16,
   "id": "f7f6249e",
   "metadata": {},
   "outputs": [
    {
     "data": {
      "text/html": [
       "<div>\n",
       "<style scoped>\n",
       "    .dataframe tbody tr th:only-of-type {\n",
       "        vertical-align: middle;\n",
       "    }\n",
       "\n",
       "    .dataframe tbody tr th {\n",
       "        vertical-align: top;\n",
       "    }\n",
       "\n",
       "    .dataframe thead th {\n",
       "        text-align: right;\n",
       "    }\n",
       "</style>\n",
       "<table border=\"1\" class=\"dataframe\">\n",
       "  <thead>\n",
       "    <tr style=\"text-align: right;\">\n",
       "      <th></th>\n",
       "      <th>PC1</th>\n",
       "      <th>PC2</th>\n",
       "      <th>PC3</th>\n",
       "      <th>PC4</th>\n",
       "      <th>PC5</th>\n",
       "      <th>PC6</th>\n",
       "      <th>PC7</th>\n",
       "      <th>PC8</th>\n",
       "      <th>PC9</th>\n",
       "      <th>PC10</th>\n",
       "      <th>Ancestry</th>\n",
       "      <th>Ancestry_n</th>\n",
       "    </tr>\n",
       "  </thead>\n",
       "  <tbody>\n",
       "    <tr>\n",
       "      <th>0</th>\n",
       "      <td>-10.901171</td>\n",
       "      <td>0.798743</td>\n",
       "      <td>-1.143301</td>\n",
       "      <td>-1.070960</td>\n",
       "      <td>11.856396</td>\n",
       "      <td>-2.265965</td>\n",
       "      <td>4.536405</td>\n",
       "      <td>1.519959</td>\n",
       "      <td>-2.214294</td>\n",
       "      <td>-0.671274</td>\n",
       "      <td>African</td>\n",
       "      <td>0</td>\n",
       "    </tr>\n",
       "    <tr>\n",
       "      <th>1</th>\n",
       "      <td>-9.990054</td>\n",
       "      <td>1.416821</td>\n",
       "      <td>-0.729626</td>\n",
       "      <td>-0.443621</td>\n",
       "      <td>10.418594</td>\n",
       "      <td>0.443514</td>\n",
       "      <td>2.640659</td>\n",
       "      <td>-4.637746</td>\n",
       "      <td>3.351629</td>\n",
       "      <td>-0.671274</td>\n",
       "      <td>African</td>\n",
       "      <td>0</td>\n",
       "    </tr>\n",
       "    <tr>\n",
       "      <th>2</th>\n",
       "      <td>-9.345388</td>\n",
       "      <td>2.913054</td>\n",
       "      <td>-0.921421</td>\n",
       "      <td>0.029173</td>\n",
       "      <td>10.672615</td>\n",
       "      <td>-2.052552</td>\n",
       "      <td>5.140476</td>\n",
       "      <td>-1.451096</td>\n",
       "      <td>0.444183</td>\n",
       "      <td>-0.671274</td>\n",
       "      <td>African</td>\n",
       "      <td>0</td>\n",
       "    </tr>\n",
       "    <tr>\n",
       "      <th>3</th>\n",
       "      <td>-11.221507</td>\n",
       "      <td>1.733021</td>\n",
       "      <td>-2.339817</td>\n",
       "      <td>0.045786</td>\n",
       "      <td>13.195087</td>\n",
       "      <td>-3.068897</td>\n",
       "      <td>2.863434</td>\n",
       "      <td>-2.259194</td>\n",
       "      <td>2.374566</td>\n",
       "      <td>-0.671274</td>\n",
       "      <td>African</td>\n",
       "      <td>0</td>\n",
       "    </tr>\n",
       "    <tr>\n",
       "      <th>4</th>\n",
       "      <td>-10.175158</td>\n",
       "      <td>2.066307</td>\n",
       "      <td>-0.785493</td>\n",
       "      <td>-0.632400</td>\n",
       "      <td>7.461272</td>\n",
       "      <td>-1.643509</td>\n",
       "      <td>0.715258</td>\n",
       "      <td>-3.982752</td>\n",
       "      <td>0.098681</td>\n",
       "      <td>-0.671274</td>\n",
       "      <td>African</td>\n",
       "      <td>0</td>\n",
       "    </tr>\n",
       "    <tr>\n",
       "      <th>...</th>\n",
       "      <td>...</td>\n",
       "      <td>...</td>\n",
       "      <td>...</td>\n",
       "      <td>...</td>\n",
       "      <td>...</td>\n",
       "      <td>...</td>\n",
       "      <td>...</td>\n",
       "      <td>...</td>\n",
       "      <td>...</td>\n",
       "      <td>...</td>\n",
       "      <td>...</td>\n",
       "      <td>...</td>\n",
       "    </tr>\n",
       "    <tr>\n",
       "      <th>178</th>\n",
       "      <td>4.562678</td>\n",
       "      <td>1.595991</td>\n",
       "      <td>-6.255160</td>\n",
       "      <td>-3.083079</td>\n",
       "      <td>0.155693</td>\n",
       "      <td>-2.509439</td>\n",
       "      <td>-1.186470</td>\n",
       "      <td>0.641546</td>\n",
       "      <td>2.893239</td>\n",
       "      <td>0.885596</td>\n",
       "      <td>NativeAmerican</td>\n",
       "      <td>3</td>\n",
       "    </tr>\n",
       "    <tr>\n",
       "      <th>179</th>\n",
       "      <td>4.559052</td>\n",
       "      <td>1.581629</td>\n",
       "      <td>-5.121037</td>\n",
       "      <td>-4.312312</td>\n",
       "      <td>0.021703</td>\n",
       "      <td>-0.787173</td>\n",
       "      <td>-1.838054</td>\n",
       "      <td>-0.118590</td>\n",
       "      <td>1.200644</td>\n",
       "      <td>0.885596</td>\n",
       "      <td>NativeAmerican</td>\n",
       "      <td>3</td>\n",
       "    </tr>\n",
       "    <tr>\n",
       "      <th>180</th>\n",
       "      <td>3.101335</td>\n",
       "      <td>1.477101</td>\n",
       "      <td>-5.759153</td>\n",
       "      <td>-2.083745</td>\n",
       "      <td>-0.750615</td>\n",
       "      <td>1.061579</td>\n",
       "      <td>-1.341655</td>\n",
       "      <td>-0.215556</td>\n",
       "      <td>-0.133415</td>\n",
       "      <td>0.885596</td>\n",
       "      <td>NativeAmerican</td>\n",
       "      <td>3</td>\n",
       "    </tr>\n",
       "    <tr>\n",
       "      <th>181</th>\n",
       "      <td>3.235086</td>\n",
       "      <td>-0.974829</td>\n",
       "      <td>-4.049595</td>\n",
       "      <td>0.020907</td>\n",
       "      <td>-0.489322</td>\n",
       "      <td>0.627622</td>\n",
       "      <td>0.087942</td>\n",
       "      <td>0.737715</td>\n",
       "      <td>3.262126</td>\n",
       "      <td>0.885596</td>\n",
       "      <td>NativeAmerican</td>\n",
       "      <td>3</td>\n",
       "    </tr>\n",
       "    <tr>\n",
       "      <th>182</th>\n",
       "      <td>4.972614</td>\n",
       "      <td>1.900830</td>\n",
       "      <td>-4.944774</td>\n",
       "      <td>-1.368755</td>\n",
       "      <td>0.538729</td>\n",
       "      <td>-0.045408</td>\n",
       "      <td>0.782997</td>\n",
       "      <td>-0.370055</td>\n",
       "      <td>1.284957</td>\n",
       "      <td>2.442467</td>\n",
       "      <td>NativeAmerican</td>\n",
       "      <td>3</td>\n",
       "    </tr>\n",
       "  </tbody>\n",
       "</table>\n",
       "<p>183 rows × 12 columns</p>\n",
       "</div>"
      ],
      "text/plain": [
       "           PC1       PC2       PC3       PC4        PC5       PC6       PC7  \\\n",
       "0   -10.901171  0.798743 -1.143301 -1.070960  11.856396 -2.265965  4.536405   \n",
       "1    -9.990054  1.416821 -0.729626 -0.443621  10.418594  0.443514  2.640659   \n",
       "2    -9.345388  2.913054 -0.921421  0.029173  10.672615 -2.052552  5.140476   \n",
       "3   -11.221507  1.733021 -2.339817  0.045786  13.195087 -3.068897  2.863434   \n",
       "4   -10.175158  2.066307 -0.785493 -0.632400   7.461272 -1.643509  0.715258   \n",
       "..         ...       ...       ...       ...        ...       ...       ...   \n",
       "178   4.562678  1.595991 -6.255160 -3.083079   0.155693 -2.509439 -1.186470   \n",
       "179   4.559052  1.581629 -5.121037 -4.312312   0.021703 -0.787173 -1.838054   \n",
       "180   3.101335  1.477101 -5.759153 -2.083745  -0.750615  1.061579 -1.341655   \n",
       "181   3.235086 -0.974829 -4.049595  0.020907  -0.489322  0.627622  0.087942   \n",
       "182   4.972614  1.900830 -4.944774 -1.368755   0.538729 -0.045408  0.782997   \n",
       "\n",
       "          PC8       PC9      PC10        Ancestry  Ancestry_n  \n",
       "0    1.519959 -2.214294 -0.671274         African           0  \n",
       "1   -4.637746  3.351629 -0.671274         African           0  \n",
       "2   -1.451096  0.444183 -0.671274         African           0  \n",
       "3   -2.259194  2.374566 -0.671274         African           0  \n",
       "4   -3.982752  0.098681 -0.671274         African           0  \n",
       "..        ...       ...       ...             ...         ...  \n",
       "178  0.641546  2.893239  0.885596  NativeAmerican           3  \n",
       "179 -0.118590  1.200644  0.885596  NativeAmerican           3  \n",
       "180 -0.215556 -0.133415  0.885596  NativeAmerican           3  \n",
       "181  0.737715  3.262126  0.885596  NativeAmerican           3  \n",
       "182 -0.370055  1.284957  2.442467  NativeAmerican           3  \n",
       "\n",
       "[183 rows x 12 columns]"
      ]
     },
     "execution_count": 16,
     "metadata": {},
     "output_type": "execute_result"
    }
   ],
   "source": [
    "df1"
   ]
  },
  {
   "cell_type": "code",
   "execution_count": 17,
   "id": "ad177d53",
   "metadata": {},
   "outputs": [
    {
     "data": {
      "text/html": [
       "<div>\n",
       "<style scoped>\n",
       "    .dataframe tbody tr th:only-of-type {\n",
       "        vertical-align: middle;\n",
       "    }\n",
       "\n",
       "    .dataframe tbody tr th {\n",
       "        vertical-align: top;\n",
       "    }\n",
       "\n",
       "    .dataframe thead th {\n",
       "        text-align: right;\n",
       "    }\n",
       "</style>\n",
       "<table border=\"1\" class=\"dataframe\">\n",
       "  <thead>\n",
       "    <tr style=\"text-align: right;\">\n",
       "      <th>Ancestry_n</th>\n",
       "      <th>0</th>\n",
       "      <th>1</th>\n",
       "      <th>2</th>\n",
       "      <th>3</th>\n",
       "      <th>4</th>\n",
       "    </tr>\n",
       "    <tr>\n",
       "      <th>Ancestry</th>\n",
       "      <th></th>\n",
       "      <th></th>\n",
       "      <th></th>\n",
       "      <th></th>\n",
       "      <th></th>\n",
       "    </tr>\n",
       "  </thead>\n",
       "  <tbody>\n",
       "    <tr>\n",
       "      <th>African</th>\n",
       "      <td>25</td>\n",
       "      <td>0</td>\n",
       "      <td>0</td>\n",
       "      <td>0</td>\n",
       "      <td>0</td>\n",
       "    </tr>\n",
       "    <tr>\n",
       "      <th>EastAsian</th>\n",
       "      <td>0</td>\n",
       "      <td>61</td>\n",
       "      <td>0</td>\n",
       "      <td>0</td>\n",
       "      <td>0</td>\n",
       "    </tr>\n",
       "    <tr>\n",
       "      <th>European</th>\n",
       "      <td>0</td>\n",
       "      <td>0</td>\n",
       "      <td>36</td>\n",
       "      <td>0</td>\n",
       "      <td>0</td>\n",
       "    </tr>\n",
       "    <tr>\n",
       "      <th>NativeAmerican</th>\n",
       "      <td>0</td>\n",
       "      <td>0</td>\n",
       "      <td>0</td>\n",
       "      <td>34</td>\n",
       "      <td>0</td>\n",
       "    </tr>\n",
       "    <tr>\n",
       "      <th>Oceanian</th>\n",
       "      <td>0</td>\n",
       "      <td>0</td>\n",
       "      <td>0</td>\n",
       "      <td>0</td>\n",
       "      <td>27</td>\n",
       "    </tr>\n",
       "  </tbody>\n",
       "</table>\n",
       "</div>"
      ],
      "text/plain": [
       "Ancestry_n       0   1   2   3   4\n",
       "Ancestry                          \n",
       "African         25   0   0   0   0\n",
       "EastAsian        0  61   0   0   0\n",
       "European         0   0  36   0   0\n",
       "NativeAmerican   0   0   0  34   0\n",
       "Oceanian         0   0   0   0  27"
      ]
     },
     "execution_count": 17,
     "metadata": {},
     "output_type": "execute_result"
    }
   ],
   "source": [
    " pd.crosstab(df1.Ancestry,df1.Ancestry_n)"
   ]
  },
  {
   "cell_type": "code",
   "execution_count": 18,
   "id": "d4c5b31e",
   "metadata": {},
   "outputs": [],
   "source": [
    "x = df1.iloc[:,:-2].values\n",
    "y = df1.iloc[:,-1].values"
   ]
  },
  {
   "cell_type": "code",
   "execution_count": 19,
   "id": "3c9afaee",
   "metadata": {},
   "outputs": [],
   "source": [
    "sc = StandardScaler()"
   ]
  },
  {
   "cell_type": "code",
   "execution_count": 20,
   "id": "aedfc065",
   "metadata": {},
   "outputs": [],
   "source": [
    "x = sc.fit_transform(x)"
   ]
  },
  {
   "cell_type": "code",
   "execution_count": 21,
   "id": "c7cc5f59",
   "metadata": {},
   "outputs": [
    {
     "data": {
      "image/png": "[encoded data removed]",
      "text/plain": [
       "<Figure size 640x480 with 1 Axes>"
      ]
     },
     "metadata": {},
     "output_type": "display_data"
    }
   ],
   "source": [
    "# plotting the distribution of ancestry\n",
    "sns.countplot(x=y)\n",
    "plt.show()"
   ]
  },
  {
   "cell_type": "markdown",
   "id": "fe58d420",
   "metadata": {},
   "source": [
    "so treat imbalancing in the dataset we choose oversampling technique"
   ]
  },
  {
   "cell_type": "code",
   "execution_count": 22,
   "id": "85338f80",
   "metadata": {},
   "outputs": [],
   "source": [
    "sm = SMOTE()"
   ]
  },
  {
   "cell_type": "code",
   "execution_count": 23,
   "id": "61bfd798",
   "metadata": {},
   "outputs": [],
   "source": [
    "x,y = sm.fit_resample(x,y)"
   ]
  },
  {
   "cell_type": "code",
   "execution_count": 24,
   "id": "fac0c538",
   "metadata": {},
   "outputs": [
    {
     "data": {
      "image/png": "[encoded data removed]",
      "text/plain": [
       "<Figure size 640x480 with 1 Axes>"
      ]
     },
     "metadata": {},
     "output_type": "display_data"
    }
   ],
   "source": [
    "sns.countplot(x=y)\n",
    "plt.show()"
   ]
  },
  {
   "cell_type": "code",
   "execution_count": 25,
   "id": "bb09b21d",
   "metadata": {},
   "outputs": [],
   "source": [
    "models = {'LogisticRegression':LogisticRegression(),\n",
    "          'AdaBoostClassifier':AdaBoostClassifier(random_state=42),\n",
    "          'GradientBoostingClassifier':GradientBoostingClassifier(random_state=42),\n",
    "         'DecisionTreeClassifier':DecisionTreeClassifier(random_state=42),\n",
    "         'RandomForestClassifier':RandomForestClassifier(random_state=42),\n",
    "         'KNeighborsClassifier':KNeighborsClassifier()\n",
    "         }"
   ]
  },
  {
   "cell_type": "code",
   "execution_count": 26,
   "id": "84bb3554",
   "metadata": {},
   "outputs": [
    {
     "name": "stdout",
     "output_type": "stream",
     "text": [
      "Cross validation ofLogisticRegression\n",
      "Mean score is: 1.0\n",
      "****************************************************************************************************\n",
      "Cross validation ofAdaBoostClassifier\n",
      "Mean score is: 0.8129032258064516\n",
      "****************************************************************************************************\n",
      "Cross validation ofGradientBoostingClassifier\n",
      "Mean score is: 0.9935483870967742\n",
      "****************************************************************************************************\n",
      "Cross validation ofDecisionTreeClassifier\n",
      "Mean score is: 0.9934408602150538\n",
      "****************************************************************************************************\n",
      "Cross validation ofRandomForestClassifier\n",
      "Mean score is: 1.0\n",
      "****************************************************************************************************\n",
      "Cross validation ofKNeighborsClassifier\n",
      "Mean score is: 1.0\n",
      "****************************************************************************************************\n"
     ]
    }
   ],
   "source": [
    "for name,model in models.items():\n",
    "    score = cross_val_score(model,x,y,scoring='accuracy',n_jobs= -1,cv=10)\n",
    "    print(f'Cross validation of{name}')\n",
    "    print('Mean score is:',np.mean(score))\n",
    "    print(\"*\"*100)"
   ]
  },
  {
   "cell_type": "markdown",
   "id": "88a5c70a",
   "metadata": {},
   "source": [
    "selecting random forest classifier"
   ]
  },
  {
   "cell_type": "code",
   "execution_count": 27,
   "id": "36cd0dc9",
   "metadata": {},
   "outputs": [],
   "source": [
    "y = label_binarize(y,classes =[0,1,2,3,4])\n",
    "n_classes = 5"
   ]
  },
  {
   "cell_type": "code",
   "execution_count": 28,
   "id": "e04c147b",
   "metadata": {},
   "outputs": [],
   "source": [
    "clf = OneVsRestClassifier(RandomForestClassifier(random_state=0))"
   ]
  },
  {
   "cell_type": "code",
   "execution_count": 29,
   "id": "064417e5",
   "metadata": {},
   "outputs": [],
   "source": [
    "x_train,x_test,y_train,y_test = train_test_split(x,y,test_size=0.2,shuffle=True,random_state=42)"
   ]
  },
  {
   "cell_type": "code",
   "execution_count": 30,
   "id": "67df742c",
   "metadata": {},
   "outputs": [],
   "source": [
    "y_score = clf.fit(x_train,y_train).predict_proba(x_test)"
   ]
  },
  {
   "cell_type": "markdown",
   "id": "d090af64",
   "metadata": {},
   "source": [
    " Computing AUC and ROC for each class"
   ]
  },
  {
   "cell_type": "code",
   "execution_count": 31,
   "id": "c7b2bb95",
   "metadata": {},
   "outputs": [
    {
     "data": {
      "image/png": "[encoded data removed]",
      "text/plain": [
       "<Figure size 640x480 with 1 Axes>"
      ]
     },
     "metadata": {},
     "output_type": "display_data"
    },
    {
     "data": {
      "image/png": "[encoded data removed]",
      "text/plain": [
       "<Figure size 640x480 with 1 Axes>"
      ]
     },
     "metadata": {},
     "output_type": "display_data"
    },
    {
     "data": {
      "image/png": "[encoded data removed]",
      "text/plain": [
       "<Figure size 640x480 with 1 Axes>"
      ]
     },
     "metadata": {},
     "output_type": "display_data"
    },
    {
     "data": {
      "image/png": "[encoded data removed]",
      "text/plain": [
       "<Figure size 640x480 with 1 Axes>"
      ]
     },
     "metadata": {},
     "output_type": "display_data"
    },
    {
     "data": {
      "image/png": "[encoded data removed]",
      "text/plain": [
       "<Figure size 640x480 with 1 Axes>"
      ]
     },
     "metadata": {},
     "output_type": "display_data"
    }
   ],
   "source": [
    "tpr = dict() #True positive rate\n",
    "fpr = dict() #False positive rate\n",
    "roc_auc = dict()\n",
    "for i in range(n_classes):\n",
    "    fpr[i],tpr[i],_ = roc_curve(y_test[:,i],y_score[:,i])\n",
    "    roc_auc[i] = auc(fpr[i],tpr[i])\n",
    "    \n",
    "for i in range(n_classes):\n",
    "    plt.figure()\n",
    "    plt.plot(fpr[i],tpr[i],label = f'ROC curve area = {roc_auc[i]}')\n",
    "    plt.plot([0,1],[0,1],'k--')\n",
    "    plt.xlim([0.0,1.0])\n",
    "    plt.ylim([0.0,1.05])\n",
    "    plt.xlabel('FPR')\n",
    "    plt.ylabel('TPR')\n",
    "    plt.title(\"Reciever operating characteristic example\")\n",
    "    plt.legend(loc = 'lower right')"
   ]
  },
  {
   "cell_type": "code",
   "execution_count": 32,
   "id": "134905d3",
   "metadata": {},
   "outputs": [],
   "source": [
    "model = RandomForestClassifier(random_state=0,n_jobs=-1)"
   ]
  },
  {
   "cell_type": "code",
   "execution_count": 33,
   "id": "cb3c31a5",
   "metadata": {},
   "outputs": [
    {
     "data": {
      "text/html": [
       "<div>\n",
       "<style scoped>\n",
       "    .dataframe tbody tr th:only-of-type {\n",
       "        vertical-align: middle;\n",
       "    }\n",
       "\n",
       "    .dataframe tbody tr th {\n",
       "        vertical-align: top;\n",
       "    }\n",
       "\n",
       "    .dataframe thead th {\n",
       "        text-align: right;\n",
       "    }\n",
       "</style>\n",
       "<table border=\"1\" class=\"dataframe\">\n",
       "  <thead>\n",
       "    <tr style=\"text-align: right;\">\n",
       "      <th></th>\n",
       "      <th>PC1</th>\n",
       "      <th>PC2</th>\n",
       "      <th>PC3</th>\n",
       "      <th>PC4</th>\n",
       "      <th>PC5</th>\n",
       "      <th>PC6</th>\n",
       "      <th>PC7</th>\n",
       "      <th>PC8</th>\n",
       "      <th>PC9</th>\n",
       "      <th>PC10</th>\n",
       "      <th>Ancestry</th>\n",
       "    </tr>\n",
       "  </thead>\n",
       "  <tbody>\n",
       "    <tr>\n",
       "      <th>0</th>\n",
       "      <td>2.517683</td>\n",
       "      <td>5.464283</td>\n",
       "      <td>9.067873</td>\n",
       "      <td>-4.965928</td>\n",
       "      <td>-0.741937</td>\n",
       "      <td>0.039785</td>\n",
       "      <td>0.573279</td>\n",
       "      <td>-0.216918</td>\n",
       "      <td>2.454823</td>\n",
       "      <td>-0.671274</td>\n",
       "      <td>Unknown</td>\n",
       "    </tr>\n",
       "    <tr>\n",
       "      <th>1</th>\n",
       "      <td>6.077012</td>\n",
       "      <td>1.032867</td>\n",
       "      <td>-5.795883</td>\n",
       "      <td>-3.490064</td>\n",
       "      <td>-0.600204</td>\n",
       "      <td>-0.120803</td>\n",
       "      <td>1.243767</td>\n",
       "      <td>1.821390</td>\n",
       "      <td>-1.173053</td>\n",
       "      <td>2.442467</td>\n",
       "      <td>Unknown</td>\n",
       "    </tr>\n",
       "    <tr>\n",
       "      <th>2</th>\n",
       "      <td>1.016945</td>\n",
       "      <td>-2.913299</td>\n",
       "      <td>0.907702</td>\n",
       "      <td>1.233580</td>\n",
       "      <td>-1.983452</td>\n",
       "      <td>1.605964</td>\n",
       "      <td>2.674998</td>\n",
       "      <td>-0.732921</td>\n",
       "      <td>-2.157438</td>\n",
       "      <td>-0.671274</td>\n",
       "      <td>Unknown</td>\n",
       "    </tr>\n",
       "    <tr>\n",
       "      <th>3</th>\n",
       "      <td>-10.860926</td>\n",
       "      <td>2.545077</td>\n",
       "      <td>0.023950</td>\n",
       "      <td>-1.474450</td>\n",
       "      <td>0.372286</td>\n",
       "      <td>-2.609954</td>\n",
       "      <td>-2.794092</td>\n",
       "      <td>1.264747</td>\n",
       "      <td>-3.974644</td>\n",
       "      <td>-0.671274</td>\n",
       "      <td>Unknown</td>\n",
       "    </tr>\n",
       "    <tr>\n",
       "      <th>4</th>\n",
       "      <td>4.790262</td>\n",
       "      <td>3.621650</td>\n",
       "      <td>-1.442221</td>\n",
       "      <td>5.459907</td>\n",
       "      <td>-0.864235</td>\n",
       "      <td>-2.591185</td>\n",
       "      <td>-0.062762</td>\n",
       "      <td>0.515344</td>\n",
       "      <td>0.228729</td>\n",
       "      <td>-0.671274</td>\n",
       "      <td>Unknown</td>\n",
       "    </tr>\n",
       "  </tbody>\n",
       "</table>\n",
       "</div>"
      ],
      "text/plain": [
       "         PC1       PC2       PC3       PC4       PC5       PC6       PC7  \\\n",
       "0   2.517683  5.464283  9.067873 -4.965928 -0.741937  0.039785  0.573279   \n",
       "1   6.077012  1.032867 -5.795883 -3.490064 -0.600204 -0.120803  1.243767   \n",
       "2   1.016945 -2.913299  0.907702  1.233580 -1.983452  1.605964  2.674998   \n",
       "3 -10.860926  2.545077  0.023950 -1.474450  0.372286 -2.609954 -2.794092   \n",
       "4   4.790262  3.621650 -1.442221  5.459907 -0.864235 -2.591185 -0.062762   \n",
       "\n",
       "        PC8       PC9      PC10 Ancestry  \n",
       "0 -0.216918  2.454823 -0.671274  Unknown  \n",
       "1  1.821390 -1.173053  2.442467  Unknown  \n",
       "2 -0.732921 -2.157438 -0.671274  Unknown  \n",
       "3  1.264747 -3.974644 -0.671274  Unknown  \n",
       "4  0.515344  0.228729 -0.671274  Unknown  "
      ]
     },
     "execution_count": 33,
     "metadata": {},
     "output_type": "execute_result"
    }
   ],
   "source": [
    "df2.head()"
   ]
  },
  {
   "cell_type": "code",
   "execution_count": 34,
   "id": "0ceeb0b2",
   "metadata": {},
   "outputs": [],
   "source": [
    "df2.drop(columns='Ancestry',inplace=True)"
   ]
  },
  {
   "cell_type": "code",
   "execution_count": 35,
   "id": "9a1f0909",
   "metadata": {},
   "outputs": [
    {
     "data": {
      "text/html": [
       "<div>\n",
       "<style scoped>\n",
       "    .dataframe tbody tr th:only-of-type {\n",
       "        vertical-align: middle;\n",
       "    }\n",
       "\n",
       "    .dataframe tbody tr th {\n",
       "        vertical-align: top;\n",
       "    }\n",
       "\n",
       "    .dataframe thead th {\n",
       "        text-align: right;\n",
       "    }\n",
       "</style>\n",
       "<table border=\"1\" class=\"dataframe\">\n",
       "  <thead>\n",
       "    <tr style=\"text-align: right;\">\n",
       "      <th></th>\n",
       "      <th>PC1</th>\n",
       "      <th>PC2</th>\n",
       "      <th>PC3</th>\n",
       "      <th>PC4</th>\n",
       "      <th>PC5</th>\n",
       "      <th>PC6</th>\n",
       "      <th>PC7</th>\n",
       "      <th>PC8</th>\n",
       "      <th>PC9</th>\n",
       "      <th>PC10</th>\n",
       "    </tr>\n",
       "  </thead>\n",
       "  <tbody>\n",
       "    <tr>\n",
       "      <th>0</th>\n",
       "      <td>2.517683</td>\n",
       "      <td>5.464283</td>\n",
       "      <td>9.067873</td>\n",
       "      <td>-4.965928</td>\n",
       "      <td>-0.741937</td>\n",
       "      <td>0.039785</td>\n",
       "      <td>0.573279</td>\n",
       "      <td>-0.216918</td>\n",
       "      <td>2.454823</td>\n",
       "      <td>-0.671274</td>\n",
       "    </tr>\n",
       "    <tr>\n",
       "      <th>1</th>\n",
       "      <td>6.077012</td>\n",
       "      <td>1.032867</td>\n",
       "      <td>-5.795883</td>\n",
       "      <td>-3.490064</td>\n",
       "      <td>-0.600204</td>\n",
       "      <td>-0.120803</td>\n",
       "      <td>1.243767</td>\n",
       "      <td>1.821390</td>\n",
       "      <td>-1.173053</td>\n",
       "      <td>2.442467</td>\n",
       "    </tr>\n",
       "    <tr>\n",
       "      <th>2</th>\n",
       "      <td>1.016945</td>\n",
       "      <td>-2.913299</td>\n",
       "      <td>0.907702</td>\n",
       "      <td>1.233580</td>\n",
       "      <td>-1.983452</td>\n",
       "      <td>1.605964</td>\n",
       "      <td>2.674998</td>\n",
       "      <td>-0.732921</td>\n",
       "      <td>-2.157438</td>\n",
       "      <td>-0.671274</td>\n",
       "    </tr>\n",
       "    <tr>\n",
       "      <th>3</th>\n",
       "      <td>-10.860926</td>\n",
       "      <td>2.545077</td>\n",
       "      <td>0.023950</td>\n",
       "      <td>-1.474450</td>\n",
       "      <td>0.372286</td>\n",
       "      <td>-2.609954</td>\n",
       "      <td>-2.794092</td>\n",
       "      <td>1.264747</td>\n",
       "      <td>-3.974644</td>\n",
       "      <td>-0.671274</td>\n",
       "    </tr>\n",
       "    <tr>\n",
       "      <th>4</th>\n",
       "      <td>4.790262</td>\n",
       "      <td>3.621650</td>\n",
       "      <td>-1.442221</td>\n",
       "      <td>5.459907</td>\n",
       "      <td>-0.864235</td>\n",
       "      <td>-2.591185</td>\n",
       "      <td>-0.062762</td>\n",
       "      <td>0.515344</td>\n",
       "      <td>0.228729</td>\n",
       "      <td>-0.671274</td>\n",
       "    </tr>\n",
       "  </tbody>\n",
       "</table>\n",
       "</div>"
      ],
      "text/plain": [
       "         PC1       PC2       PC3       PC4       PC5       PC6       PC7  \\\n",
       "0   2.517683  5.464283  9.067873 -4.965928 -0.741937  0.039785  0.573279   \n",
       "1   6.077012  1.032867 -5.795883 -3.490064 -0.600204 -0.120803  1.243767   \n",
       "2   1.016945 -2.913299  0.907702  1.233580 -1.983452  1.605964  2.674998   \n",
       "3 -10.860926  2.545077  0.023950 -1.474450  0.372286 -2.609954 -2.794092   \n",
       "4   4.790262  3.621650 -1.442221  5.459907 -0.864235 -2.591185 -0.062762   \n",
       "\n",
       "        PC8       PC9      PC10  \n",
       "0 -0.216918  2.454823 -0.671274  \n",
       "1  1.821390 -1.173053  2.442467  \n",
       "2 -0.732921 -2.157438 -0.671274  \n",
       "3  1.264747 -3.974644 -0.671274  \n",
       "4  0.515344  0.228729 -0.671274  "
      ]
     },
     "execution_count": 35,
     "metadata": {},
     "output_type": "execute_result"
    }
   ],
   "source": [
    "df2.head()"
   ]
  },
  {
   "cell_type": "code",
   "execution_count": 36,
   "id": "b4b1aacf",
   "metadata": {},
   "outputs": [],
   "source": [
    "x =df1.iloc[:,:-2].values\n",
    "y =df1.iloc[:,-1].values"
   ]
  },
  {
   "cell_type": "code",
   "execution_count": 37,
   "id": "1db7fe99",
   "metadata": {},
   "outputs": [],
   "source": [
    "x_train,x_test,y_train,y_test = train_test_split(x,y,test_size= 0.2, shuffle= True,random_state= 0)"
   ]
  },
  {
   "cell_type": "code",
   "execution_count": 38,
   "id": "a2134d8f",
   "metadata": {},
   "outputs": [],
   "source": [
    "X = df2.iloc[:,:].values"
   ]
  },
  {
   "cell_type": "code",
   "execution_count": 39,
   "id": "11b3631f",
   "metadata": {},
   "outputs": [
    {
     "data": {
      "text/html": [
       "<style>#sk-container-id-1 {color: black;background-color: white;}#sk-container-id-1 pre{padding: 0;}#sk-container-id-1 div.sk-toggleable {background-color: white;}#sk-container-id-1 label.sk-toggleable__label {cursor: pointer;display: block;width: 100%;margin-bottom: 0;padding: 0.3em;box-sizing: border-box;text-align: center;}#sk-container-id-1 label.sk-toggleable__label-arrow:before {content: \"▸\";float: left;margin-right: 0.25em;color: #696969;}#sk-container-id-1 label.sk-toggleable__label-arrow:hover:before {color: black;}#sk-container-id-1 div.sk-estimator:hover label.sk-toggleable__label-arrow:before {color: black;}#sk-container-id-1 div.sk-toggleable__content {max-height: 0;max-width: 0;overflow: hidden;text-align: left;background-color: #f0f8ff;}#sk-container-id-1 div.sk-toggleable__content pre {margin: 0.2em;color: black;border-radius: 0.25em;background-color: #f0f8ff;}#sk-container-id-1 input.sk-toggleable__control:checked~div.sk-toggleable__content {max-height: 200px;max-width: 100%;overflow: auto;}#sk-container-id-1 input.sk-toggleable__control:checked~label.sk-toggleable__label-arrow:before {content: \"▾\";}#sk-container-id-1 div.sk-estimator input.sk-toggleable__control:checked~label.sk-toggleable__label {background-color: #d4ebff;}#sk-container-id-1 div.sk-label input.sk-toggleable__control:checked~label.sk-toggleable__label {background-color: #d4ebff;}#sk-container-id-1 input.sk-hidden--visually {border: 0;clip: rect(1px 1px 1px 1px);clip: rect(1px, 1px, 1px, 1px);height: 1px;margin: -1px;overflow: hidden;padding: 0;position: absolute;width: 1px;}#sk-container-id-1 div.sk-estimator {font-family: monospace;background-color: #f0f8ff;border: 1px dotted black;border-radius: 0.25em;box-sizing: border-box;margin-bottom: 0.5em;}#sk-container-id-1 div.sk-estimator:hover {background-color: #d4ebff;}#sk-container-id-1 div.sk-parallel-item::after {content: \"\";width: 100%;border-bottom: 1px solid gray;flex-grow: 1;}#sk-container-id-1 div.sk-label:hover label.sk-toggleable__label {background-color: #d4ebff;}#sk-container-id-1 div.sk-serial::before {content: \"\";position: absolute;border-left: 1px solid gray;box-sizing: border-box;top: 0;bottom: 0;left: 50%;z-index: 0;}#sk-container-id-1 div.sk-serial {display: flex;flex-direction: column;align-items: center;background-color: white;padding-right: 0.2em;padding-left: 0.2em;position: relative;}#sk-container-id-1 div.sk-item {position: relative;z-index: 1;}#sk-container-id-1 div.sk-parallel {display: flex;align-items: stretch;justify-content: center;background-color: white;position: relative;}#sk-container-id-1 div.sk-item::before, #sk-container-id-1 div.sk-parallel-item::before {content: \"\";position: absolute;border-left: 1px solid gray;box-sizing: border-box;top: 0;bottom: 0;left: 50%;z-index: -1;}#sk-container-id-1 div.sk-parallel-item {display: flex;flex-direction: column;z-index: 1;position: relative;background-color: white;}#sk-container-id-1 div.sk-parallel-item:first-child::after {align-self: flex-end;width: 50%;}#sk-container-id-1 div.sk-parallel-item:last-child::after {align-self: flex-start;width: 50%;}#sk-container-id-1 div.sk-parallel-item:only-child::after {width: 0;}#sk-container-id-1 div.sk-dashed-wrapped {border: 1px dashed gray;margin: 0 0.4em 0.5em 0.4em;box-sizing: border-box;padding-bottom: 0.4em;background-color: white;}#sk-container-id-1 div.sk-label label {font-family: monospace;font-weight: bold;display: inline-block;line-height: 1.2em;}#sk-container-id-1 div.sk-label-container {text-align: center;}#sk-container-id-1 div.sk-container {/* jupyter's `normalize.less` sets `[hidden] { display: none; }` but bootstrap.min.css set `[hidden] { display: none !important; }` so we also need the `!important` here to be able to override the default hidden behavior on the sphinx rendered scikit-learn.org. See: https://github.com/scikit-learn/scikit-learn/issues/21755 */display: inline-block !important;position: relative;}#sk-container-id-1 div.sk-text-repr-fallback {display: none;}</style><div id=\"sk-container-id-1\" class=\"sk-top-container\"><div class=\"sk-text-repr-fallback\"><pre>RandomForestClassifier(n_jobs=-1, random_state=0)</pre><b>In a Jupyter environment, please rerun this cell to show the HTML representation or trust the notebook. <br />On GitHub, the HTML representation is unable to render, please try loading this page with nbviewer.org.</b></div><div class=\"sk-container\" hidden><div class=\"sk-item\"><div class=\"sk-estimator sk-toggleable\"><input class=\"sk-toggleable__control sk-hidden--visually\" id=\"sk-estimator-id-1\" type=\"checkbox\" checked><label for=\"sk-estimator-id-1\" class=\"sk-toggleable__label sk-toggleable__label-arrow\">RandomForestClassifier</label><div class=\"sk-toggleable__content\"><pre>RandomForestClassifier(n_jobs=-1, random_state=0)</pre></div></div></div></div></div>"
      ],
      "text/plain": [
       "RandomForestClassifier(n_jobs=-1, random_state=0)"
      ]
     },
     "execution_count": 39,
     "metadata": {},
     "output_type": "execute_result"
    }
   ],
   "source": [
    "model.fit(x_train,y_train)"
   ]
  },
  {
   "cell_type": "code",
   "execution_count": 40,
   "id": "132e7108",
   "metadata": {},
   "outputs": [],
   "source": [
    "Y = model.predict(X)"
   ]
  },
  {
   "cell_type": "code",
   "execution_count": 41,
   "id": "a1728daf",
   "metadata": {},
   "outputs": [
    {
     "data": {
      "text/plain": [
       "array([4, 3, 2, 0, 1, 3, 3, 2, 3, 2, 2, 2, 2, 3, 3, 2, 3, 0, 2, 2, 2, 0,\n",
       "       2, 3, 3, 3, 2, 2, 3, 2, 2, 2, 0, 3, 2, 0, 3, 2, 3, 3, 2, 0, 3, 0,\n",
       "       3, 2, 2, 2, 3, 2, 2, 2, 2, 3, 2, 3, 3, 0, 2, 1, 0, 1, 1, 0, 0, 0,\n",
       "       0, 0, 0, 0, 0, 0, 0, 0, 0, 0, 2, 0, 0, 0, 0, 0, 0, 0, 0, 0, 0, 0,\n",
       "       0, 1, 0, 0, 0, 0, 0, 0, 0, 0, 0, 0, 0, 0, 0, 0, 0, 0, 0, 0, 0, 0,\n",
       "       1])"
      ]
     },
     "execution_count": 41,
     "metadata": {},
     "output_type": "execute_result"
    }
   ],
   "source": [
    "Y"
   ]
  },
  {
   "cell_type": "code",
   "execution_count": 42,
   "id": "8a4a1cb9",
   "metadata": {},
   "outputs": [],
   "source": [
    "df2['Ancestry'] = pd.Series(Y)"
   ]
  },
  {
   "cell_type": "code",
   "execution_count": 43,
   "id": "869c4366",
   "metadata": {},
   "outputs": [
    {
     "data": {
      "text/html": [
       "<div>\n",
       "<style scoped>\n",
       "    .dataframe tbody tr th:only-of-type {\n",
       "        vertical-align: middle;\n",
       "    }\n",
       "\n",
       "    .dataframe tbody tr th {\n",
       "        vertical-align: top;\n",
       "    }\n",
       "\n",
       "    .dataframe thead th {\n",
       "        text-align: right;\n",
       "    }\n",
       "</style>\n",
       "<table border=\"1\" class=\"dataframe\">\n",
       "  <thead>\n",
       "    <tr style=\"text-align: right;\">\n",
       "      <th></th>\n",
       "      <th>PC1</th>\n",
       "      <th>PC2</th>\n",
       "      <th>PC3</th>\n",
       "      <th>PC4</th>\n",
       "      <th>PC5</th>\n",
       "      <th>PC6</th>\n",
       "      <th>PC7</th>\n",
       "      <th>PC8</th>\n",
       "      <th>PC9</th>\n",
       "      <th>PC10</th>\n",
       "      <th>Ancestry</th>\n",
       "    </tr>\n",
       "  </thead>\n",
       "  <tbody>\n",
       "    <tr>\n",
       "      <th>0</th>\n",
       "      <td>2.517683</td>\n",
       "      <td>5.464283</td>\n",
       "      <td>9.067873</td>\n",
       "      <td>-4.965928</td>\n",
       "      <td>-0.741937</td>\n",
       "      <td>0.039785</td>\n",
       "      <td>0.573279</td>\n",
       "      <td>-0.216918</td>\n",
       "      <td>2.454823</td>\n",
       "      <td>-0.671274</td>\n",
       "      <td>4</td>\n",
       "    </tr>\n",
       "    <tr>\n",
       "      <th>1</th>\n",
       "      <td>6.077012</td>\n",
       "      <td>1.032867</td>\n",
       "      <td>-5.795883</td>\n",
       "      <td>-3.490064</td>\n",
       "      <td>-0.600204</td>\n",
       "      <td>-0.120803</td>\n",
       "      <td>1.243767</td>\n",
       "      <td>1.821390</td>\n",
       "      <td>-1.173053</td>\n",
       "      <td>2.442467</td>\n",
       "      <td>3</td>\n",
       "    </tr>\n",
       "    <tr>\n",
       "      <th>2</th>\n",
       "      <td>1.016945</td>\n",
       "      <td>-2.913299</td>\n",
       "      <td>0.907702</td>\n",
       "      <td>1.233580</td>\n",
       "      <td>-1.983452</td>\n",
       "      <td>1.605964</td>\n",
       "      <td>2.674998</td>\n",
       "      <td>-0.732921</td>\n",
       "      <td>-2.157438</td>\n",
       "      <td>-0.671274</td>\n",
       "      <td>2</td>\n",
       "    </tr>\n",
       "    <tr>\n",
       "      <th>3</th>\n",
       "      <td>-10.860926</td>\n",
       "      <td>2.545077</td>\n",
       "      <td>0.023950</td>\n",
       "      <td>-1.474450</td>\n",
       "      <td>0.372286</td>\n",
       "      <td>-2.609954</td>\n",
       "      <td>-2.794092</td>\n",
       "      <td>1.264747</td>\n",
       "      <td>-3.974644</td>\n",
       "      <td>-0.671274</td>\n",
       "      <td>0</td>\n",
       "    </tr>\n",
       "    <tr>\n",
       "      <th>4</th>\n",
       "      <td>4.790262</td>\n",
       "      <td>3.621650</td>\n",
       "      <td>-1.442221</td>\n",
       "      <td>5.459907</td>\n",
       "      <td>-0.864235</td>\n",
       "      <td>-2.591185</td>\n",
       "      <td>-0.062762</td>\n",
       "      <td>0.515344</td>\n",
       "      <td>0.228729</td>\n",
       "      <td>-0.671274</td>\n",
       "      <td>1</td>\n",
       "    </tr>\n",
       "  </tbody>\n",
       "</table>\n",
       "</div>"
      ],
      "text/plain": [
       "         PC1       PC2       PC3       PC4       PC5       PC6       PC7  \\\n",
       "0   2.517683  5.464283  9.067873 -4.965928 -0.741937  0.039785  0.573279   \n",
       "1   6.077012  1.032867 -5.795883 -3.490064 -0.600204 -0.120803  1.243767   \n",
       "2   1.016945 -2.913299  0.907702  1.233580 -1.983452  1.605964  2.674998   \n",
       "3 -10.860926  2.545077  0.023950 -1.474450  0.372286 -2.609954 -2.794092   \n",
       "4   4.790262  3.621650 -1.442221  5.459907 -0.864235 -2.591185 -0.062762   \n",
       "\n",
       "        PC8       PC9      PC10  Ancestry  \n",
       "0 -0.216918  2.454823 -0.671274         4  \n",
       "1  1.821390 -1.173053  2.442467         3  \n",
       "2 -0.732921 -2.157438 -0.671274         2  \n",
       "3  1.264747 -3.974644 -0.671274         0  \n",
       "4  0.515344  0.228729 -0.671274         1  "
      ]
     },
     "execution_count": 43,
     "metadata": {},
     "output_type": "execute_result"
    }
   ],
   "source": [
    "df2.head()"
   ]
  },
  {
   "cell_type": "code",
   "execution_count": 44,
   "id": "e94deb9f",
   "metadata": {},
   "outputs": [
    {
     "data": {
      "text/html": [
       "<div>\n",
       "<style scoped>\n",
       "    .dataframe tbody tr th:only-of-type {\n",
       "        vertical-align: middle;\n",
       "    }\n",
       "\n",
       "    .dataframe tbody tr th {\n",
       "        vertical-align: top;\n",
       "    }\n",
       "\n",
       "    .dataframe thead th {\n",
       "        text-align: right;\n",
       "    }\n",
       "</style>\n",
       "<table border=\"1\" class=\"dataframe\">\n",
       "  <thead>\n",
       "    <tr style=\"text-align: right;\">\n",
       "      <th>Ancestry_n</th>\n",
       "      <th>0</th>\n",
       "      <th>1</th>\n",
       "      <th>2</th>\n",
       "      <th>3</th>\n",
       "      <th>4</th>\n",
       "    </tr>\n",
       "    <tr>\n",
       "      <th>Ancestry</th>\n",
       "      <th></th>\n",
       "      <th></th>\n",
       "      <th></th>\n",
       "      <th></th>\n",
       "      <th></th>\n",
       "    </tr>\n",
       "  </thead>\n",
       "  <tbody>\n",
       "    <tr>\n",
       "      <th>African</th>\n",
       "      <td>25</td>\n",
       "      <td>0</td>\n",
       "      <td>0</td>\n",
       "      <td>0</td>\n",
       "      <td>0</td>\n",
       "    </tr>\n",
       "    <tr>\n",
       "      <th>EastAsian</th>\n",
       "      <td>0</td>\n",
       "      <td>61</td>\n",
       "      <td>0</td>\n",
       "      <td>0</td>\n",
       "      <td>0</td>\n",
       "    </tr>\n",
       "    <tr>\n",
       "      <th>European</th>\n",
       "      <td>0</td>\n",
       "      <td>0</td>\n",
       "      <td>36</td>\n",
       "      <td>0</td>\n",
       "      <td>0</td>\n",
       "    </tr>\n",
       "    <tr>\n",
       "      <th>NativeAmerican</th>\n",
       "      <td>0</td>\n",
       "      <td>0</td>\n",
       "      <td>0</td>\n",
       "      <td>34</td>\n",
       "      <td>0</td>\n",
       "    </tr>\n",
       "    <tr>\n",
       "      <th>Oceanian</th>\n",
       "      <td>0</td>\n",
       "      <td>0</td>\n",
       "      <td>0</td>\n",
       "      <td>0</td>\n",
       "      <td>27</td>\n",
       "    </tr>\n",
       "  </tbody>\n",
       "</table>\n",
       "</div>"
      ],
      "text/plain": [
       "Ancestry_n       0   1   2   3   4\n",
       "Ancestry                          \n",
       "African         25   0   0   0   0\n",
       "EastAsian        0  61   0   0   0\n",
       "European         0   0  36   0   0\n",
       "NativeAmerican   0   0   0  34   0\n",
       "Oceanian         0   0   0   0  27"
      ]
     },
     "execution_count": 44,
     "metadata": {},
     "output_type": "execute_result"
    }
   ],
   "source": [
    "pd.crosstab(df1.Ancestry,df1.Ancestry_n)"
   ]
  },
  {
   "cell_type": "code",
   "execution_count": 45,
   "id": "48247e31",
   "metadata": {},
   "outputs": [],
   "source": [
    "df2['Ancestry_'] =df2.Ancestry.replace({0:'African',1:'East Asian',2:'European',3:'Native American',4:'Oceanian'})"
   ]
  },
  {
   "cell_type": "code",
   "execution_count": 46,
   "id": "aa86ca5a",
   "metadata": {},
   "outputs": [
    {
     "data": {
      "text/html": [
       "<div>\n",
       "<style scoped>\n",
       "    .dataframe tbody tr th:only-of-type {\n",
       "        vertical-align: middle;\n",
       "    }\n",
       "\n",
       "    .dataframe tbody tr th {\n",
       "        vertical-align: top;\n",
       "    }\n",
       "\n",
       "    .dataframe thead th {\n",
       "        text-align: right;\n",
       "    }\n",
       "</style>\n",
       "<table border=\"1\" class=\"dataframe\">\n",
       "  <thead>\n",
       "    <tr style=\"text-align: right;\">\n",
       "      <th></th>\n",
       "      <th>PC1</th>\n",
       "      <th>PC2</th>\n",
       "      <th>PC3</th>\n",
       "      <th>PC4</th>\n",
       "      <th>PC5</th>\n",
       "      <th>PC6</th>\n",
       "      <th>PC7</th>\n",
       "      <th>PC8</th>\n",
       "      <th>PC9</th>\n",
       "      <th>PC10</th>\n",
       "      <th>Ancestry</th>\n",
       "      <th>Ancestry_</th>\n",
       "    </tr>\n",
       "  </thead>\n",
       "  <tbody>\n",
       "    <tr>\n",
       "      <th>0</th>\n",
       "      <td>2.517683</td>\n",
       "      <td>5.464283</td>\n",
       "      <td>9.067873</td>\n",
       "      <td>-4.965928</td>\n",
       "      <td>-0.741937</td>\n",
       "      <td>0.039785</td>\n",
       "      <td>0.573279</td>\n",
       "      <td>-0.216918</td>\n",
       "      <td>2.454823</td>\n",
       "      <td>-0.671274</td>\n",
       "      <td>4</td>\n",
       "      <td>Oceanian</td>\n",
       "    </tr>\n",
       "    <tr>\n",
       "      <th>1</th>\n",
       "      <td>6.077012</td>\n",
       "      <td>1.032867</td>\n",
       "      <td>-5.795883</td>\n",
       "      <td>-3.490064</td>\n",
       "      <td>-0.600204</td>\n",
       "      <td>-0.120803</td>\n",
       "      <td>1.243767</td>\n",
       "      <td>1.821390</td>\n",
       "      <td>-1.173053</td>\n",
       "      <td>2.442467</td>\n",
       "      <td>3</td>\n",
       "      <td>Native American</td>\n",
       "    </tr>\n",
       "    <tr>\n",
       "      <th>2</th>\n",
       "      <td>1.016945</td>\n",
       "      <td>-2.913299</td>\n",
       "      <td>0.907702</td>\n",
       "      <td>1.233580</td>\n",
       "      <td>-1.983452</td>\n",
       "      <td>1.605964</td>\n",
       "      <td>2.674998</td>\n",
       "      <td>-0.732921</td>\n",
       "      <td>-2.157438</td>\n",
       "      <td>-0.671274</td>\n",
       "      <td>2</td>\n",
       "      <td>European</td>\n",
       "    </tr>\n",
       "    <tr>\n",
       "      <th>3</th>\n",
       "      <td>-10.860926</td>\n",
       "      <td>2.545077</td>\n",
       "      <td>0.023950</td>\n",
       "      <td>-1.474450</td>\n",
       "      <td>0.372286</td>\n",
       "      <td>-2.609954</td>\n",
       "      <td>-2.794092</td>\n",
       "      <td>1.264747</td>\n",
       "      <td>-3.974644</td>\n",
       "      <td>-0.671274</td>\n",
       "      <td>0</td>\n",
       "      <td>African</td>\n",
       "    </tr>\n",
       "    <tr>\n",
       "      <th>4</th>\n",
       "      <td>4.790262</td>\n",
       "      <td>3.621650</td>\n",
       "      <td>-1.442221</td>\n",
       "      <td>5.459907</td>\n",
       "      <td>-0.864235</td>\n",
       "      <td>-2.591185</td>\n",
       "      <td>-0.062762</td>\n",
       "      <td>0.515344</td>\n",
       "      <td>0.228729</td>\n",
       "      <td>-0.671274</td>\n",
       "      <td>1</td>\n",
       "      <td>East Asian</td>\n",
       "    </tr>\n",
       "    <tr>\n",
       "      <th>...</th>\n",
       "      <td>...</td>\n",
       "      <td>...</td>\n",
       "      <td>...</td>\n",
       "      <td>...</td>\n",
       "      <td>...</td>\n",
       "      <td>...</td>\n",
       "      <td>...</td>\n",
       "      <td>...</td>\n",
       "      <td>...</td>\n",
       "      <td>...</td>\n",
       "      <td>...</td>\n",
       "      <td>...</td>\n",
       "    </tr>\n",
       "    <tr>\n",
       "      <th>106</th>\n",
       "      <td>-11.030349</td>\n",
       "      <td>1.712786</td>\n",
       "      <td>-1.392893</td>\n",
       "      <td>-0.163989</td>\n",
       "      <td>3.623641</td>\n",
       "      <td>-0.263645</td>\n",
       "      <td>-3.337796</td>\n",
       "      <td>2.279226</td>\n",
       "      <td>-2.632659</td>\n",
       "      <td>-0.671274</td>\n",
       "      <td>0</td>\n",
       "      <td>African</td>\n",
       "    </tr>\n",
       "    <tr>\n",
       "      <th>107</th>\n",
       "      <td>-7.994173</td>\n",
       "      <td>0.045333</td>\n",
       "      <td>-0.738547</td>\n",
       "      <td>0.189793</td>\n",
       "      <td>-2.545140</td>\n",
       "      <td>-0.332066</td>\n",
       "      <td>0.026289</td>\n",
       "      <td>-1.840944</td>\n",
       "      <td>-0.456438</td>\n",
       "      <td>-0.671274</td>\n",
       "      <td>0</td>\n",
       "      <td>African</td>\n",
       "    </tr>\n",
       "    <tr>\n",
       "      <th>108</th>\n",
       "      <td>-8.874531</td>\n",
       "      <td>2.074620</td>\n",
       "      <td>-2.060999</td>\n",
       "      <td>-0.898143</td>\n",
       "      <td>-1.372896</td>\n",
       "      <td>-3.175091</td>\n",
       "      <td>2.325163</td>\n",
       "      <td>-1.256258</td>\n",
       "      <td>-0.133253</td>\n",
       "      <td>-0.671274</td>\n",
       "      <td>0</td>\n",
       "      <td>African</td>\n",
       "    </tr>\n",
       "    <tr>\n",
       "      <th>109</th>\n",
       "      <td>-7.017063</td>\n",
       "      <td>-0.199721</td>\n",
       "      <td>-1.469538</td>\n",
       "      <td>-1.997714</td>\n",
       "      <td>1.892038</td>\n",
       "      <td>-1.880466</td>\n",
       "      <td>-3.278863</td>\n",
       "      <td>-0.336890</td>\n",
       "      <td>0.042410</td>\n",
       "      <td>-0.671274</td>\n",
       "      <td>0</td>\n",
       "      <td>African</td>\n",
       "    </tr>\n",
       "    <tr>\n",
       "      <th>110</th>\n",
       "      <td>-5.488129</td>\n",
       "      <td>0.406477</td>\n",
       "      <td>-0.852392</td>\n",
       "      <td>2.299789</td>\n",
       "      <td>-1.219706</td>\n",
       "      <td>-0.260295</td>\n",
       "      <td>0.204571</td>\n",
       "      <td>0.262224</td>\n",
       "      <td>0.802251</td>\n",
       "      <td>-0.671274</td>\n",
       "      <td>1</td>\n",
       "      <td>East Asian</td>\n",
       "    </tr>\n",
       "  </tbody>\n",
       "</table>\n",
       "<p>111 rows × 12 columns</p>\n",
       "</div>"
      ],
      "text/plain": [
       "           PC1       PC2       PC3       PC4       PC5       PC6       PC7  \\\n",
       "0     2.517683  5.464283  9.067873 -4.965928 -0.741937  0.039785  0.573279   \n",
       "1     6.077012  1.032867 -5.795883 -3.490064 -0.600204 -0.120803  1.243767   \n",
       "2     1.016945 -2.913299  0.907702  1.233580 -1.983452  1.605964  2.674998   \n",
       "3   -10.860926  2.545077  0.023950 -1.474450  0.372286 -2.609954 -2.794092   \n",
       "4     4.790262  3.621650 -1.442221  5.459907 -0.864235 -2.591185 -0.062762   \n",
       "..         ...       ...       ...       ...       ...       ...       ...   \n",
       "106 -11.030349  1.712786 -1.392893 -0.163989  3.623641 -0.263645 -3.337796   \n",
       "107  -7.994173  0.045333 -0.738547  0.189793 -2.545140 -0.332066  0.026289   \n",
       "108  -8.874531  2.074620 -2.060999 -0.898143 -1.372896 -3.175091  2.325163   \n",
       "109  -7.017063 -0.199721 -1.469538 -1.997714  1.892038 -1.880466 -3.278863   \n",
       "110  -5.488129  0.406477 -0.852392  2.299789 -1.219706 -0.260295  0.204571   \n",
       "\n",
       "          PC8       PC9      PC10  Ancestry        Ancestry_  \n",
       "0   -0.216918  2.454823 -0.671274         4         Oceanian  \n",
       "1    1.821390 -1.173053  2.442467         3  Native American  \n",
       "2   -0.732921 -2.157438 -0.671274         2         European  \n",
       "3    1.264747 -3.974644 -0.671274         0          African  \n",
       "4    0.515344  0.228729 -0.671274         1       East Asian  \n",
       "..        ...       ...       ...       ...              ...  \n",
       "106  2.279226 -2.632659 -0.671274         0          African  \n",
       "107 -1.840944 -0.456438 -0.671274         0          African  \n",
       "108 -1.256258 -0.133253 -0.671274         0          African  \n",
       "109 -0.336890  0.042410 -0.671274         0          African  \n",
       "110  0.262224  0.802251 -0.671274         1       East Asian  \n",
       "\n",
       "[111 rows x 12 columns]"
      ]
     },
     "execution_count": 46,
     "metadata": {},
     "output_type": "execute_result"
    }
   ],
   "source": [
    "df2"
   ]
  },
  {
   "cell_type": "markdown",
   "id": "563382ae",
   "metadata": {},
   "source": [
    "From the testing data classified ancestry of each individuals."
   ]
  },
  {
   "cell_type": "code",
   "execution_count": null,
   "id": "47c1c491",
   "metadata": {},
   "outputs": [],
   "source": []
  }
 ],
 "metadata": {
  "kernelspec": {
   "display_name": "Python 3 (ipykernel)",
   "language": "python",
   "name": "python3"
  },
  "language_info": {
   "codemirror_mode": {
    "name": "ipython",
    "version": 3
   },
   "file_extension": ".py",
   "mimetype": "text/x-python",
   "name": "python",
   "nbconvert_exporter": "python",
   "pygments_lexer": "ipython3",
   "version": "3.10.9"
  }
 },
 "nbformat": 4,
 "nbformat_minor": 5
}
