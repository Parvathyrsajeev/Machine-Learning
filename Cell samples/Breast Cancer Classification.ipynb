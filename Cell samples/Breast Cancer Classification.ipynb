{
 "cells": [
  {
   "cell_type": "markdown",
   "id": "74b18288",
   "metadata": {},
   "source": [
    "<h1 align=center> Breast Cancer Prediction </h1>"
   ]
  },
  {
   "cell_type": "code",
   "execution_count": 1,
   "id": "57f46674",
   "metadata": {},
   "outputs": [],
   "source": [
    "# importing libraries\n",
    "import pandas as pd\n",
    "import numpy as np\n",
    "import seaborn as sns\n",
    "import matplotlib.pyplot as plt\n",
    "import warnings\n",
    "warnings.filterwarnings('ignore')\n",
    "\n",
    "from sklearn.preprocessing import StandardScaler,LabelEncoder\n",
    "from sklearn.metrics import accuracy_score,confusion_matrix,RocCurveDisplay\n",
    "from sklearn.linear_model import LogisticRegression\n",
    "from sklearn.ensemble import AdaBoostClassifier,GradientBoostingClassifier,RandomForestClassifier\n",
    "from sklearn.tree import DecisionTreeClassifier\n",
    "from sklearn.neighbors import KNeighborsClassifier\n",
    "from imblearn.over_sampling import SMOTE\n",
    "from sklearn.model_selection import cross_val_score,train_test_split"
   ]
  },
  {
   "cell_type": "code",
   "execution_count": 2,
   "id": "58f36d28",
   "metadata": {},
   "outputs": [
    {
     "data": {
      "text/html": [
       "<div>\n",
       "<style scoped>\n",
       "    .dataframe tbody tr th:only-of-type {\n",
       "        vertical-align: middle;\n",
       "    }\n",
       "\n",
       "    .dataframe tbody tr th {\n",
       "        vertical-align: top;\n",
       "    }\n",
       "\n",
       "    .dataframe thead th {\n",
       "        text-align: right;\n",
       "    }\n",
       "</style>\n",
       "<table border=\"1\" class=\"dataframe\">\n",
       "  <thead>\n",
       "    <tr style=\"text-align: right;\">\n",
       "      <th></th>\n",
       "      <th>ID</th>\n",
       "      <th>Clump</th>\n",
       "      <th>UnifSize</th>\n",
       "      <th>UnifShape</th>\n",
       "      <th>MargAdh</th>\n",
       "      <th>SingEpiSize</th>\n",
       "      <th>BareNuc</th>\n",
       "      <th>BlandChrom</th>\n",
       "      <th>NormNucl</th>\n",
       "      <th>Mit</th>\n",
       "      <th>Class</th>\n",
       "    </tr>\n",
       "  </thead>\n",
       "  <tbody>\n",
       "    <tr>\n",
       "      <th>0</th>\n",
       "      <td>1000025</td>\n",
       "      <td>5</td>\n",
       "      <td>1</td>\n",
       "      <td>1</td>\n",
       "      <td>1</td>\n",
       "      <td>2</td>\n",
       "      <td>1</td>\n",
       "      <td>3</td>\n",
       "      <td>1</td>\n",
       "      <td>1</td>\n",
       "      <td>2</td>\n",
       "    </tr>\n",
       "    <tr>\n",
       "      <th>1</th>\n",
       "      <td>1002945</td>\n",
       "      <td>5</td>\n",
       "      <td>4</td>\n",
       "      <td>4</td>\n",
       "      <td>5</td>\n",
       "      <td>7</td>\n",
       "      <td>10</td>\n",
       "      <td>3</td>\n",
       "      <td>2</td>\n",
       "      <td>1</td>\n",
       "      <td>2</td>\n",
       "    </tr>\n",
       "    <tr>\n",
       "      <th>2</th>\n",
       "      <td>1015425</td>\n",
       "      <td>3</td>\n",
       "      <td>1</td>\n",
       "      <td>1</td>\n",
       "      <td>1</td>\n",
       "      <td>2</td>\n",
       "      <td>2</td>\n",
       "      <td>3</td>\n",
       "      <td>1</td>\n",
       "      <td>1</td>\n",
       "      <td>2</td>\n",
       "    </tr>\n",
       "    <tr>\n",
       "      <th>3</th>\n",
       "      <td>1016277</td>\n",
       "      <td>6</td>\n",
       "      <td>8</td>\n",
       "      <td>8</td>\n",
       "      <td>1</td>\n",
       "      <td>3</td>\n",
       "      <td>4</td>\n",
       "      <td>3</td>\n",
       "      <td>7</td>\n",
       "      <td>1</td>\n",
       "      <td>2</td>\n",
       "    </tr>\n",
       "    <tr>\n",
       "      <th>4</th>\n",
       "      <td>1017023</td>\n",
       "      <td>4</td>\n",
       "      <td>1</td>\n",
       "      <td>1</td>\n",
       "      <td>3</td>\n",
       "      <td>2</td>\n",
       "      <td>1</td>\n",
       "      <td>3</td>\n",
       "      <td>1</td>\n",
       "      <td>1</td>\n",
       "      <td>2</td>\n",
       "    </tr>\n",
       "  </tbody>\n",
       "</table>\n",
       "</div>"
      ],
      "text/plain": [
       "        ID  Clump  UnifSize  UnifShape  MargAdh  SingEpiSize BareNuc  \\\n",
       "0  1000025      5         1          1        1            2       1   \n",
       "1  1002945      5         4          4        5            7      10   \n",
       "2  1015425      3         1          1        1            2       2   \n",
       "3  1016277      6         8          8        1            3       4   \n",
       "4  1017023      4         1          1        3            2       1   \n",
       "\n",
       "   BlandChrom  NormNucl  Mit  Class  \n",
       "0           3         1    1      2  \n",
       "1           3         2    1      2  \n",
       "2           3         1    1      2  \n",
       "3           3         7    1      2  \n",
       "4           3         1    1      2  "
      ]
     },
     "execution_count": 2,
     "metadata": {},
     "output_type": "execute_result"
    }
   ],
   "source": [
    "data = pd.read_csv('./cell_samples.csv')\n",
    "data.head()"
   ]
  },
  {
   "cell_type": "markdown",
   "id": "5984b025",
   "metadata": {},
   "source": [
    "Clump - Clump thickness of cells\n",
    "\n",
    "Unifsize - Uniformity of cell size\n",
    "\n",
    "unifshape - Uniformity of cell shape\n",
    "\n",
    "MargAdh - Marginal adhesion\n",
    "\n",
    "Singepisize - Single epithelial cell size\n",
    "\n",
    "Barenuc - Bare nuclei\n",
    "\n",
    "Blandchrom - Bland chromatin\n",
    "\n",
    "Normnucl - Normal nucleoli\n",
    "\n",
    "Mit - Mitoses\n",
    "\n",
    "Class - 2-Benign(non-cancerous), 4-Malignant(cancerous)"
   ]
  },
  {
   "cell_type": "code",
   "execution_count": 3,
   "id": "bf6c57ab",
   "metadata": {
    "scrolled": false
   },
   "outputs": [
    {
     "name": "stdout",
     "output_type": "stream",
     "text": [
      "<class 'pandas.core.frame.DataFrame'>\n",
      "RangeIndex: 699 entries, 0 to 698\n",
      "Data columns (total 11 columns):\n",
      " #   Column       Non-Null Count  Dtype \n",
      "---  ------       --------------  ----- \n",
      " 0   ID           699 non-null    int64 \n",
      " 1   Clump        699 non-null    int64 \n",
      " 2   UnifSize     699 non-null    int64 \n",
      " 3   UnifShape    699 non-null    int64 \n",
      " 4   MargAdh      699 non-null    int64 \n",
      " 5   SingEpiSize  699 non-null    int64 \n",
      " 6   BareNuc      699 non-null    object\n",
      " 7   BlandChrom   699 non-null    int64 \n",
      " 8   NormNucl     699 non-null    int64 \n",
      " 9   Mit          699 non-null    int64 \n",
      " 10  Class        699 non-null    int64 \n",
      "dtypes: int64(10), object(1)\n",
      "memory usage: 60.2+ KB\n"
     ]
    }
   ],
   "source": [
    "data.info()"
   ]
  },
  {
   "cell_type": "code",
   "execution_count": 4,
   "id": "39705a85",
   "metadata": {},
   "outputs": [
    {
     "data": {
      "text/plain": [
       "array(['1', '10', '2', '4', '3', '9', '7', '?', '5', '8', '6'],\n",
       "      dtype=object)"
      ]
     },
     "execution_count": 4,
     "metadata": {},
     "output_type": "execute_result"
    }
   ],
   "source": [
    "data.BareNuc.unique()"
   ]
  },
  {
   "cell_type": "code",
   "execution_count": 5,
   "id": "6c857fd1",
   "metadata": {},
   "outputs": [],
   "source": [
    "data.BareNuc= data.BareNuc.replace('?',np.nan)"
   ]
  },
  {
   "cell_type": "code",
   "execution_count": 6,
   "id": "c2e07140",
   "metadata": {},
   "outputs": [],
   "source": [
    "data.dropna(inplace=True)"
   ]
  },
  {
   "cell_type": "code",
   "execution_count": 7,
   "id": "f949c70f",
   "metadata": {},
   "outputs": [],
   "source": [
    "data.BareNuc = data.BareNuc.astype(dtype=int)"
   ]
  },
  {
   "cell_type": "code",
   "execution_count": 8,
   "id": "6ab4a15a",
   "metadata": {},
   "outputs": [],
   "source": [
    "data.drop(columns='ID',inplace=True)"
   ]
  },
  {
   "cell_type": "code",
   "execution_count": 9,
   "id": "2a36614f",
   "metadata": {},
   "outputs": [
    {
     "data": {
      "text/plain": [
       "Clump          0.0\n",
       "UnifSize       0.0\n",
       "UnifShape      0.0\n",
       "MargAdh        0.0\n",
       "SingEpiSize    0.0\n",
       "BareNuc        0.0\n",
       "BlandChrom     0.0\n",
       "NormNucl       0.0\n",
       "Mit            0.0\n",
       "Class          0.0\n",
       "dtype: float64"
      ]
     },
     "execution_count": 9,
     "metadata": {},
     "output_type": "execute_result"
    }
   ],
   "source": [
    "data.isnull().mean()*100"
   ]
  },
  {
   "cell_type": "code",
   "execution_count": 10,
   "id": "826f4c63",
   "metadata": {},
   "outputs": [],
   "source": [
    "X = data.iloc[:,:-1].values\n",
    "Y = data.iloc[:,-1].values"
   ]
  },
  {
   "cell_type": "code",
   "execution_count": 11,
   "id": "26da3102",
   "metadata": {},
   "outputs": [
    {
     "data": {
      "image/png": "[encoded data removed]",
      "text/plain": [
       "<Figure size 640x480 with 1 Axes>"
      ]
     },
     "metadata": {},
     "output_type": "display_data"
    }
   ],
   "source": [
    "sns.countplot(x=Y)\n",
    "plt.show()"
   ]
  },
  {
   "cell_type": "code",
   "execution_count": 12,
   "id": "4bf288cd",
   "metadata": {},
   "outputs": [],
   "source": [
    "# treating class imbalance\n",
    "X,Y = SMOTE().fit_resample(X,Y)"
   ]
  },
  {
   "cell_type": "code",
   "execution_count": 13,
   "id": "2d557aad",
   "metadata": {},
   "outputs": [
    {
     "data": {
      "image/png": "[encoded data removed]",
      "text/plain": [
       "<Figure size 640x480 with 1 Axes>"
      ]
     },
     "metadata": {},
     "output_type": "display_data"
    }
   ],
   "source": [
    "sns.countplot(x=Y)\n",
    "plt.show()"
   ]
  },
  {
   "cell_type": "code",
   "execution_count": 14,
   "id": "a3afedfb",
   "metadata": {},
   "outputs": [],
   "source": [
    "models = {\n",
    "    \"LogisticRegression\":LogisticRegression(),\n",
    "    \"RandomForestClassifier\":RandomForestClassifier(),\n",
    "    \"DecisionTreeClassifier\":DecisionTreeClassifier(),\n",
    "    \"AdaBoostClassifier\":AdaBoostClassifier(),\n",
    "    \"GradientBoostingClassifier\":GradientBoostingClassifier(),\n",
    "    \"KNeighborsClassifier\":KNeighborsClassifier()\n",
    "}"
   ]
  },
  {
   "cell_type": "code",
   "execution_count": 15,
   "id": "53f32e68",
   "metadata": {},
   "outputs": [
    {
     "name": "stdout",
     "output_type": "stream",
     "text": [
      "Cross validation model LogisticRegression\n",
      "Mean score: 96.84627170582226\n",
      "****************************************************************************************************\n",
      "Cross validation model RandomForestClassifier\n",
      "Mean score: 97.75025536261491\n",
      "****************************************************************************************************\n",
      "Cross validation model DecisionTreeClassifier\n",
      "Mean score: 95.27323799795711\n",
      "****************************************************************************************************\n",
      "Cross validation model AdaBoostClassifier\n",
      "Mean score: 96.8488253319714\n",
      "****************************************************************************************************\n",
      "Cross validation model GradientBoostingClassifier\n",
      "Mean score: 97.5268130745659\n",
      "****************************************************************************************************\n",
      "Cross validation model KNeighborsClassifier\n",
      "Mean score: 97.97497446373849\n",
      "****************************************************************************************************\n"
     ]
    }
   ],
   "source": [
    "for name,model in models.items():\n",
    "    scores = cross_val_score(model,X,Y,scoring=\"accuracy\",n_jobs=-1,cv=10)\n",
    "    print(\"Cross validation model {}\".format(name))\n",
    "    print(\"Mean score:\",np.mean(scores)*100)\n",
    "    print(\"*\"*100)"
   ]
  },
  {
   "cell_type": "markdown",
   "id": "e672d7bb",
   "metadata": {},
   "source": [
    "#### Selecting KNeighborsClassifier"
   ]
  },
  {
   "cell_type": "code",
   "execution_count": 16,
   "id": "a4b653dd",
   "metadata": {},
   "outputs": [],
   "source": [
    "X_train,X_test,Y_train,Y_test = train_test_split(X,Y,test_size=0.2,random_state=42,shuffle=True)"
   ]
  },
  {
   "cell_type": "code",
   "execution_count": 17,
   "id": "1e927b64",
   "metadata": {},
   "outputs": [],
   "source": [
    "Model = KNeighborsClassifier()"
   ]
  },
  {
   "cell_type": "code",
   "execution_count": 18,
   "id": "bccdb152",
   "metadata": {},
   "outputs": [
    {
     "name": "stdout",
     "output_type": "stream",
     "text": [
      "Model trained with KNeighborsClassifier\n",
      "Model training accuracy : 0.9802816901408451\n",
      "Model testing accuracy : 0.9887640449438202\n",
      "Confusion Matrix train : [[348  11]\n",
      " [  3 348]]\n",
      "Confusion matrix test : [[84  1]\n",
      " [ 1 92]]\n",
      "Wrong predictions made : (2, '/', 178)\n"
     ]
    }
   ],
   "source": [
    "Model.fit(X_train,Y_train)\n",
    "print(\"Model trained with KNeighborsClassifier\")\n",
    "train_score = accuracy_score(Y_train,Model.predict(X_train))\n",
    "test_score = accuracy_score(Y_test,Model.predict(X_test))\n",
    "conf_train = confusion_matrix(Y_train,Model.predict(X_train))\n",
    "conf_test = confusion_matrix(Y_test,Model.predict(X_test))\n",
    "print(\"Model training accuracy :\",train_score)\n",
    "print(\"Model testing accuracy :\",test_score)\n",
    "print(\"Confusion Matrix train :\",conf_train)\n",
    "print(\"Confusion matrix test :\",conf_test)\n",
    "print(\"Wrong predictions made :\",((Y_test !=Model.predict(X_test)).sum(),'/',\n",
    "                                 ((Y_test == Model.predict(X_test)).sum()+\n",
    "                                  (Y_test != Model.predict(X_test)).sum())))"
   ]
  },
  {
   "cell_type": "code",
   "execution_count": 19,
   "id": "fa6aa0e3",
   "metadata": {},
   "outputs": [
    {
     "data": {
      "image/png": "[encoded data removed]",
      "text/plain": [
       "<Figure size 640x480 with 1 Axes>"
      ]
     },
     "metadata": {},
     "output_type": "display_data"
    }
   ],
   "source": [
    "ROC_display = RocCurveDisplay.from_estimator(Model,X_test,Y_test)"
   ]
  },
  {
   "cell_type": "code",
   "execution_count": null,
   "id": "3547ad8c",
   "metadata": {},
   "outputs": [],
   "source": []
  }
 ],
 "metadata": {
  "kernelspec": {
   "display_name": "Python 3 (ipykernel)",
   "language": "python",
   "name": "python3"
  },
  "language_info": {
   "codemirror_mode": {
    "name": "ipython",
    "version": 3
   },
   "file_extension": ".py",
   "mimetype": "text/x-python",
   "name": "python",
   "nbconvert_exporter": "python",
   "pygments_lexer": "ipython3",
   "version": "3.10.9"
  }
 },
 "nbformat": 4,
 "nbformat_minor": 5
}
